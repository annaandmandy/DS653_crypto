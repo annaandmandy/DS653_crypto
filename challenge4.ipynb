{
  "cells": [
    {
      "cell_type": "markdown",
      "metadata": {
        "id": "L6vqYT5xThpc"
      },
      "source": [
        "# DS 653 -- Challenge Problem 4\n",
        "\n",
        "**Due:** Initial submissions are due on Sunday, March 30 at 10pm, and resubmissions are due Friday, April 11 at 10pm.\n",
        "\n",
        "**Collaboration policy:** You must follow the Academic Code of Conduct and Collaboration Policy stated in the course syllabus at all times while working on this assignment. For challenge problems, _you cannot collaborate with classmates, discuss the problems with other people, or feed the challenge problem prompt into a search engine or generative AI tool to look for the answer_. **Any student who violates this policy will lose all challenge credits for the semester.**\n",
        "\n",
        "_In the box below, provide a written statement that you agree to abide by this policy and work on the challenge problems by yourself._"
      ]
    },
    {
      "cell_type": "markdown",
      "metadata": {},
      "source": [
        "**Your response:** "
      ]
    },
    {
      "cell_type": "markdown",
      "metadata": {},
      "source": [
        "#### Problem statement\n",
        "\n",
        "In this challenge problem, you must design and implement a modified form of authenticated encryption that allows for a \"middlebox\" to be placed between the sender Alice and recipient Bob.\n",
        "\n",
        "- All ciphertexts will be transmitted as follows: Alice $\\to$ middlebox $\\to$ Bob.\n",
        "- Bob should be able to read Alice's messages, as normal.\n",
        "- The middlebox should be able to read the content of all of Alice's messages, but must **not** be able to modify the messages en route.\n",
        "- Bob should receive the usual authenticated encryption guarantees: that the messages was created by Alice and not tampered in transit. No one else, not even the middlebox, should be able to forge messages to look as though they were created by Alice.\n",
        "- The protocol should be fast; in particular, you should not use any public key cryptography.\n",
        "\n",
        "You may assume that Alice and Bob have agreed on a symmetric key $k$ beforehand. Your cryptographic protocol should include some way to generate a \"sub-key\" $k'$ from $k$, which will allow the middlebox to read but not alter data.\n",
        "\n",
        "(As a historical note: some companies used middleboxes to scan content for viruses sent via Transport Layer Security (TLS) before it was delivered to the computers on their enterprise network. This process was easier to perform with TLS 1.2, but newer changes made in the TLS 1.3 specification made this process more difficult. For this question though, you do not have to worry about the TLS specification or build any network communication.)"
      ]
    },
    {
      "cell_type": "markdown",
      "metadata": {},
      "source": [
        "#### Evaluation criteria\n",
        "\n",
        "To receive credit for this problem, you must:\n",
        "\n",
        "- Describe and implement the cryptographic protocol that you have designed for Alice, Bob, and the middlebox to use. Your description must explain clearly *what* design choices you have taken and *why* you made these decisions. (It is acceptable if your code executes locally; that is, there is no need to implement the network calls to communicate messages between different computers.)\n",
        "\n",
        "- Convincingly explain why your cryptographic protocol\n",
        "\n",
        "     - Provides Alice and Bob with the usual authenticated encryption guarantees against outside attackers, and\n",
        "     \n",
        "     - Provides \"ciphertext integrity\" even against the middlebox who knows the sub-key $k$'$, so that it cannot forge ciphertexts that are accepted by Alice or Bob.\n",
        "\n",
        "This challenge problem is based on [Boneh-Shoup](https://crypto.stanford.edu/~dabo/cryptobook/BonehShoup_0_6.pdf) exercise 9.19, and you should read the formal definition of \"ciphertext integrity\" in game 9.3 on page 379 of the textbook."
      ]
    },
    {
      "cell_type": "markdown",
      "metadata": {},
      "source": [
        "#### Your response"
      ]
    },
    {
      "cell_type": "markdown",
      "metadata": {},
      "source": []
    },
    {
      "cell_type": "markdown",
      "metadata": {},
      "source": [
        "#### Collaboration policy\n",
        "\n",
        "In accordance with the collaboration policy, list below all sources (written or software) that you used during this challenge problem and explain where they were used. If you have not used any such resources, write \"None\" below.\n",
        "\n",
        "A. List all written materials that you used, such as books or websites (besides the lecture notes and course textbooks). Provide links to any web-based resources, or citations to any physical works."
      ]
    },
    {
      "cell_type": "markdown",
      "metadata": {},
      "source": [
        "**Your response:** "
      ]
    },
    {
      "cell_type": "markdown",
      "metadata": {},
      "source": [
        "B. State all code that you used from other sources, and explain where they can be found (e.g., as a package available in a package manager like `pip`, or a web link to a GitHub repo)."
      ]
    },
    {
      "cell_type": "markdown",
      "metadata": {},
      "source": [
        "**Your response:** "
      ]
    }
  ],
  "metadata": {
    "colab": {
      "provenance": []
    },
    "kernelspec": {
      "display_name": "Python 3",
      "language": "python",
      "name": "python3"
    },
    "language_info": {
      "codemirror_mode": {
        "name": "ipython",
        "version": 3
      },
      "file_extension": ".py",
      "mimetype": "text/x-python",
      "name": "python",
      "nbconvert_exporter": "python",
      "pygments_lexer": "ipython3",
      "version": "3.9.18"
    },
    "varInspector": {
      "cols": {
        "lenName": 16,
        "lenType": 16,
        "lenVar": 40
      },
      "kernels_config": {
        "python": {
          "delete_cmd_postfix": "",
          "delete_cmd_prefix": "del ",
          "library": "var_list.py",
          "varRefreshCmd": "print(var_dic_list())"
        },
        "r": {
          "delete_cmd_postfix": ") ",
          "delete_cmd_prefix": "rm(",
          "library": "var_list.r",
          "varRefreshCmd": "cat(var_dic_list()) "
        }
      },
      "types_to_exclude": [
        "module",
        "function",
        "builtin_function_or_method",
        "instance",
        "_Feature"
      ],
      "window_display": false
    }
  },
  "nbformat": 4,
  "nbformat_minor": 0
}
