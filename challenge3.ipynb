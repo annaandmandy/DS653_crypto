{
  "cells": [
    {
      "cell_type": "markdown",
      "metadata": {
        "id": "L6vqYT5xThpc"
      },
      "source": [
        "# DS 653 -- Challenge Problem 3\n",
        "\n",
        "**Due:** Initial submissions are due on Sunday, March 30 at 10pm, and resubmissions are due Friday, April 11 at 10pm.\n",
        "\n",
        "**Collaboration policy:** You must follow the Academic Code of Conduct and Collaboration Policy stated in the course syllabus at all times while working on this assignment. For challenge problems, _you cannot collaborate with classmates, discuss the problems with other people, or feed the challenge problem prompt into a search engine or generative AI tool to look for the answer_. **Any student who violates this policy will lose all challenge credits for the semester.**\n",
        "\n",
        "_In the box below, provide a written statement that you agree to abide by this policy and work on the challenge problems by yourself._"
      ]
    },
    {
      "cell_type": "markdown",
      "metadata": {},
      "source": [
        "**Your response:** "
      ]
    },
    {
      "cell_type": "markdown",
      "metadata": {},
      "source": [
        "#### Problem statement\n",
        "\n",
        "Alice, Bob, and Carol decide to join forces and form a company called CrypCo. Each employee has their own personal secret key: Alice knows $k_A$,​ Bob knows $k_B$,​ and Carol knows $k_C$. They have hired you to keep their company's data safe and confidential. You must design and implement cryptographic systems to solve the following two tasks.\n",
        "\n",
        "1. The company has a USB stick that stores their long-term secrets. This drive is never re-written, so you can think of the USB stick as a single private message that must be protected for a long time. CrypCo is concerned that an employee might try to steal the company's secrets. To safeguard the data, you must build a mechanism to protect the USB stick in such a way that\n",
        "\n",
        "    - Any 2 of the 3 employees can (a) read its contents and (b) verify that the contents haven’t been tampered, but\n",
        "    \n",
        "    - No single employee can read anything or reveal any employee’s key to anyone else. \n",
        "\n",
        "2. CrypCo’s corporate computer contains many sensitive text files that describe their (evolving) product pitch. They want to outsource these files to the cloud -- and unlike in the previous task, these files may be updated over time. Alice is the CEO so she should be able to read all files at all times. She wants the ability to:\n",
        "\n",
        "     - Selectively give Bob or Carol access to any file, and\n",
        "\n",
        "     - To revoke access so Bob cannot read any future modifications to the file.\n",
        "\n",
        "Additionally, Alice never wants to give the cloud provider the ability to access the files. Your task is to make a data encryption and key management strategy for the files that will give Alice this feature."
      ]
    },
    {
      "cell_type": "markdown",
      "metadata": {},
      "source": [
        "#### Evaluation criteria\n",
        "\n",
        "To receive credit for this challenge problem, you must:\n",
        "\n",
        "- Describe and implement cryptographic protocols to solve *both* tasks requested by CrypCo. Make sure that your written description (either in sentence form before the code, or as code comments) is comprehensive enough that we can understand clearly *what* design choices you have taken and *why* you made these decisions.\n",
        "\n",
        "- Convincingly explain why your cryptographic protocol achieves all security guarantees stated in the problem.\n",
        "\n",
        "It is acceptable if your code executes locally; that is, there is no need to implement the network calls to, e.g., send data to the cloud provider. Still though, your description and code should make clear which data you intend to upload to the cloud, and why it is safe to do so."
      ]
    },
    {
      "cell_type": "markdown",
      "metadata": {},
      "source": [
        "#### Your response"
      ]
    },
    {
      "cell_type": "markdown",
      "metadata": {},
      "source": []
    },
    {
      "cell_type": "markdown",
      "metadata": {},
      "source": [
        "#### Collaboration policy\n",
        "\n",
        "In accordance with the collaboration policy, list below all sources (written or software) that you used during this challenge problem and explain where they were used. If you have not used any such resources, write \"None\" below.\n",
        "\n",
        "A. List all written materials that you used, such as books or websites (besides the lecture notes and course textbooks). Provide links to any web-based resources, or citations to any physical works."
      ]
    },
    {
      "cell_type": "markdown",
      "metadata": {},
      "source": [
        "**Your response:** "
      ]
    },
    {
      "cell_type": "markdown",
      "metadata": {},
      "source": [
        "B. State all code that you used from other sources, and explain where they can be found (e.g., as a package available in a package manager like `pip`, or a web link to a GitHub repo)."
      ]
    },
    {
      "cell_type": "markdown",
      "metadata": {},
      "source": [
        "**Your response:** "
      ]
    }
  ],
  "metadata": {
    "colab": {
      "provenance": []
    },
    "kernelspec": {
      "display_name": "Python 3",
      "language": "python",
      "name": "python3"
    },
    "language_info": {
      "codemirror_mode": {
        "name": "ipython",
        "version": 3
      },
      "file_extension": ".py",
      "mimetype": "text/x-python",
      "name": "python",
      "nbconvert_exporter": "python",
      "pygments_lexer": "ipython3",
      "version": "3.9.18"
    },
    "varInspector": {
      "cols": {
        "lenName": 16,
        "lenType": 16,
        "lenVar": 40
      },
      "kernels_config": {
        "python": {
          "delete_cmd_postfix": "",
          "delete_cmd_prefix": "del ",
          "library": "var_list.py",
          "varRefreshCmd": "print(var_dic_list())"
        },
        "r": {
          "delete_cmd_postfix": ") ",
          "delete_cmd_prefix": "rm(",
          "library": "var_list.r",
          "varRefreshCmd": "cat(var_dic_list()) "
        }
      },
      "types_to_exclude": [
        "module",
        "function",
        "builtin_function_or_method",
        "instance",
        "_Feature"
      ],
      "window_display": false
    }
  },
  "nbformat": 4,
  "nbformat_minor": 0
}
