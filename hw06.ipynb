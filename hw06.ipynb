{
 "cells": [
  {
   "cell_type": "markdown",
   "metadata": {
    "id": "L6vqYT5xThpc"
   },
   "source": [
    "# DS 653 -- Homework 6\n",
    "\n",
    "**Due:** Friday, March 28 at 10pm on [Gradescope](https://www.gradescope.com/courses/959425).\n",
    "\n",
    "_You must follow the Academic Code of Conduct and Collaboration Policy stated in the course syllabus at all times while working on this assignment._\n",
    "\n",
    "This assignment contains 8 questions worth a total of 20 points. You will earn:\n",
    "- 1 course learning credit for earning at least 10 points, or\n",
    "- 2 course learning credits for earning all 20 points on this homework.\n",
    "\n",
    "_If you write code that attempts to fool the tests rather than solving the actual question, then you will receive a 0 on the assignment and it will be considered a violation of the Academic Code of Conduct._"
   ]
  },
  {
   "cell_type": "markdown",
   "metadata": {},
   "source": [
    "This homework is configured to run either on Google Colab or locally on your computer. If you run it locally, please make sure that this Jupyter notebook is the only file in its directory.\n",
    "\n",
    "To begin, please execute the code block below. It will download this week's auto-grading tests, install and configure otter-grader, and import the crypto and bytestring libraries that we use in this course."
   ]
  },
  {
   "cell_type": "code",
   "execution_count": 1,
   "metadata": {
    "id": "-wnlMZVtThpd",
    "outputId": "19142d18-33f5-47c6-c6d8-309ae3a7f6b2"
   },
   "outputs": [
    {
     "name": "stdout",
     "output_type": "stream",
     "text": [
      "/bin/bash: line 1: /home/annaandmandy/ds653/DS653_crypto/.venv/bin/pip: cannot execute: required file not found\n",
      "Downloading https://crypto-ds.github.io/hw06.zip to ./hw06.zip...\n",
      "Download complete.\n",
      "Extracting ./hw06.zip to ./tests...\n",
      "Unzipped ./hw06.zip to ./tests\n"
     ]
    }
   ],
   "source": [
    "url = \"https://crypto-ds.github.io/hw06.zip\"\n",
    "\n",
    "!pip install -q otter-grader && pip install pycryptodomex\n",
    "\n",
    "# Download zip file containing tests\n",
    "import os\n",
    "import urllib.request\n",
    "\n",
    "zip_file_name = url.split(\"/\")[-1]  # Extract filename from URL\n",
    "zip_path = os.path.join(os.curdir,zip_file_name)\n",
    "\n",
    "if not os.path.exists(zip_path):\n",
    "    print(f\"Downloading {url} to {zip_path}...\")\n",
    "    urllib.request.urlretrieve(url, zip_path)\n",
    "    print(\"Download complete.\")\n",
    "else:\n",
    "    print(f\"File {zip_path} already exists. Skipping download.\")\n",
    "\n",
    "# Extract test files from zip\n",
    "import zipfile\n",
    "\n",
    "extract_dir = os.path.join(os.curdir, \"tests\") # Where to extract the files\n",
    "if not os.path.exists(extract_dir):            # Ensure extraction directory exists\n",
    "    os.makedirs(extract_dir)\n",
    "\n",
    "print(f\"Extracting {zip_path} to {extract_dir}...\")\n",
    "with zipfile.ZipFile(zip_path, 'r') as zip_ref:\n",
    "    zip_ref.extractall(extract_dir)\n",
    "\n",
    "print(f\"Unzipped {zip_path} to {extract_dir}\")\n",
    "\n",
    "# Initialize otter-grader\n",
    "import otter\n",
    "grader = otter.Notebook()\n",
    "\n",
    "# Import crypto libraries\n",
    "import Cryptodome\n",
    "from binascii import hexlify, unhexlify\n",
    "from hashlib import sha256\n",
    "from os import urandom\n",
    "from Cryptodome.Util.strxor import strxor\n",
    "from Cryptodome.Cipher import AES"
   ]
  },
  {
   "cell_type": "markdown",
   "metadata": {},
   "source": [
    "### Reading Questions (2 points each)\n",
    "\n",
    "These multiple-choice questions are based on the week 8-9 reading assignments: [Boneh-Shoup pages 4-18](https://crypto.stanford.edu/~dabo/cryptobook/BonehShoup_0_6.pdf), [AMPH pages 9-19](https://rd-springer-com.ezproxy.bu.edu/book/10.1007/978-3-662-44757-4), and [Aumasson pages 7-12](https://nostarch.com/download/SeriousCryptography_Chapter4_sample.pdf).\n",
    "\n",
    "To answer a question, please uncomment the correct response."
   ]
  },
  {
   "cell_type": "markdown",
   "metadata": {
    "deletable": false,
    "editable": false
   },
   "source": [
    "**Question 1 (Variable length OTP).** In a variable length one-time pad, which of the following is **not** allowed?\n",
    "\n",
    "1. Plaintext message is shorter than the symmetric key.\n",
    "2. Plaintext message is the same length as the symmetric key.\n",
    "3. Plaintext message is longer than the symmetric key."
   ]
  },
  {
   "cell_type": "code",
   "execution_count": 2,
   "metadata": {
    "tags": []
   },
   "outputs": [],
   "source": [
    "def hw6_q1() -> int:\n",
    "    # return 1\n",
    "    # return 2\n",
    "    return 3"
   ]
  },
  {
   "cell_type": "code",
   "execution_count": 3,
   "metadata": {
    "deletable": false,
    "editable": false
   },
   "outputs": [
    {
     "data": {
      "text/html": [
       "<p><strong><pre style='display: inline;'>q1</pre></strong> passed! 🚀</p><p><strong><pre style='display: inline;'>q1 - 1</pre> message:</strong> Satisfactory</p>"
      ],
      "text/plain": [
       "q1 results: All test cases passed!\n",
       "q1 - 1 message: Satisfactory"
      ]
     },
     "execution_count": 3,
     "metadata": {},
     "output_type": "execute_result"
    }
   ],
   "source": [
    "grader.check(\"q1\")"
   ]
  },
  {
   "cell_type": "markdown",
   "metadata": {
    "deletable": false,
    "editable": false
   },
   "source": [
    "**Question 2 (Breaking OTP confidentiality).** How much work does an attacker Mallory have to perform in order to break the confidentiality of a one-time pad?\n",
    "\n",
    "1. A small amount of work that is easy to perform on a laptop.\n",
    "2. A large but possible amount of work (similar to mining a block).\n",
    "3. A gigantic and infeasible amount of work (similar to forging a signature).\n",
    "4. It is impossible, no matter how powerful Mallory is."
   ]
  },
  {
   "cell_type": "code",
   "execution_count": 10,
   "metadata": {
    "tags": []
   },
   "outputs": [],
   "source": [
    "def hw6_q2() -> int:\n",
    "    # return 1\n",
    "    # return 2\n",
    "    # return 3\n",
    "    return 4"
   ]
  },
  {
   "cell_type": "code",
   "execution_count": 11,
   "metadata": {
    "deletable": false,
    "editable": false
   },
   "outputs": [
    {
     "data": {
      "text/html": [
       "<p><strong><pre style='display: inline;'>q2</pre></strong> passed! 🚀</p><p><strong><pre style='display: inline;'>q2 - 1</pre> message:</strong> Satisfactory</p>"
      ],
      "text/plain": [
       "q2 results: All test cases passed!\n",
       "q2 - 1 message: Satisfactory"
      ]
     },
     "execution_count": 11,
     "metadata": {},
     "output_type": "execute_result"
    }
   ],
   "source": [
    "grader.check(\"q2\")"
   ]
  },
  {
   "cell_type": "markdown",
   "metadata": {
    "deletable": false,
    "editable": false
   },
   "source": [
    "**Question 3 (MACs versus signatures).** Both message authenication codes (MACs) and digital signatures provide data integrity, but they have some differences. Which of the following statements is true?\n",
    "\n",
    "1. Both MACs and digital signatures allow the whole world to verify the sender's identity.\n",
    "2. Both MACs and digital signatures satisfy the security guarantee of \"existential unforgeability under a chosen message attack\" (EU-CMA).\n",
    "3. Both MACs and digital signatures require a public/secret key pair."
   ]
  },
  {
   "cell_type": "code",
   "execution_count": 14,
   "metadata": {
    "tags": []
   },
   "outputs": [],
   "source": [
    "def hw6_q3() -> int:\n",
    "    # return 1\n",
    "    return 2\n",
    "    # return 3"
   ]
  },
  {
   "cell_type": "code",
   "execution_count": 15,
   "metadata": {
    "deletable": false,
    "editable": false
   },
   "outputs": [
    {
     "data": {
      "text/html": [
       "<p><strong><pre style='display: inline;'>q3</pre></strong> passed! 🚀</p><p><strong><pre style='display: inline;'>q3 - 1</pre> message:</strong> Satisfactory</p>"
      ],
      "text/plain": [
       "q3 results: All test cases passed!\n",
       "q3 - 1 message: Satisfactory"
      ]
     },
     "execution_count": 15,
     "metadata": {},
     "output_type": "execute_result"
    }
   ],
   "source": [
    "grader.check(\"q3\")"
   ]
  },
  {
   "cell_type": "markdown",
   "metadata": {
    "deletable": false,
    "editable": false
   },
   "source": [
    "**Question 4 (Password hashing).** Let $H$ be an ordinary hash function like SHA-2 or SHA-3, and let $P$ be a password hashing function like PBKDF2. What is the main difference between $H$ and $P$?\n",
    "\n",
    "1. Determinism: $H$ is a deterministic function whereas $P$ is randomized.\n",
    "2. Keying: $H$ is an unkeyed function whereas $P$ requires a symmetric key.\n",
    "3. Security: $H$ satisfies collision resistance whereas $P$ only satisfies preimage resistance.\n",
    "4. Speed: $H$ is fast whereas $P$ is slow."
   ]
  },
  {
   "cell_type": "code",
   "execution_count": 22,
   "metadata": {
    "tags": []
   },
   "outputs": [],
   "source": [
    "def hw6_q4() -> int:\n",
    "    # return 1\n",
    "    # return 2\n",
    "    # return 3\n",
    "    return 4"
   ]
  },
  {
   "cell_type": "code",
   "execution_count": 23,
   "metadata": {
    "deletable": false,
    "editable": false
   },
   "outputs": [
    {
     "data": {
      "text/html": [
       "<p><strong><pre style='display: inline;'>q4</pre></strong> passed! 🌟</p><p><strong><pre style='display: inline;'>q4 - 1</pre> message:</strong> Satisfactory</p>"
      ],
      "text/plain": [
       "q4 results: All test cases passed!\n",
       "q4 - 1 message: Satisfactory"
      ]
     },
     "execution_count": 23,
     "metadata": {},
     "output_type": "execute_result"
    }
   ],
   "source": [
    "grader.check(\"q4\")"
   ]
  },
  {
   "cell_type": "markdown",
   "metadata": {
    "deletable": false,
    "editable": false
   },
   "source": [
    "**Question 5 (Key lengths).** The Advanced Encryption Standard (AES) is a family of pseudorandom permutations -- also known as a block cipher. It supports a few different key lengths. Which of the following is **not** a supported key length?\n",
    "\n",
    "1. 56 bits\n",
    "2. 128 bits\n",
    "3. 192 bits\n",
    "4. 256 bits"
   ]
  },
  {
   "cell_type": "code",
   "execution_count": 26,
   "metadata": {
    "tags": []
   },
   "outputs": [],
   "source": [
    "def hw6_q5() -> int:\n",
    "    return 1\n",
    "    # return 2\n",
    "    # return 3\n",
    "    # return 4"
   ]
  },
  {
   "cell_type": "code",
   "execution_count": 27,
   "metadata": {
    "deletable": false,
    "editable": false
   },
   "outputs": [
    {
     "data": {
      "text/html": [
       "<p><strong><pre style='display: inline;'>q5</pre></strong> passed! 🍀</p><p><strong><pre style='display: inline;'>q5 - 1</pre> message:</strong> Satisfactory</p>"
      ],
      "text/plain": [
       "q5 results: All test cases passed!\n",
       "q5 - 1 message: Satisfactory"
      ]
     },
     "execution_count": 27,
     "metadata": {},
     "output_type": "execute_result"
    }
   ],
   "source": [
    "grader.check(\"q5\")"
   ]
  },
  {
   "cell_type": "markdown",
   "metadata": {
    "deletable": false,
    "editable": false
   },
   "source": [
    "**Question 6 (Software vs hardware).** The Advanced Encryption Standard (AES) can be implemented in either software or hardware. There are many advantages when using the dedicated hardware AES instruction within Intel/AMD processors rather than implementing it yourself in software. Which of the following statements is **not** an advantage of hardware?\n",
    "\n",
    "1. Determinism: The hardware instruction is deterministic whereas the software implementations are randomized.\n",
    "2. Security: The hardware instruction stops some side channel attacks that exist with software implementations.\n",
    "3. Speed: The hardware instruction is faster."
   ]
  },
  {
   "cell_type": "code",
   "execution_count": 28,
   "metadata": {
    "tags": []
   },
   "outputs": [],
   "source": [
    "def hw6_q6() -> int:\n",
    "    return 1\n",
    "    # return 2\n",
    "    # return 3"
   ]
  },
  {
   "cell_type": "code",
   "execution_count": 29,
   "metadata": {
    "deletable": false,
    "editable": false
   },
   "outputs": [
    {
     "data": {
      "text/html": [
       "<p><strong><pre style='display: inline;'>q6</pre></strong> passed! 💯</p><p><strong><pre style='display: inline;'>q6 - 1</pre> message:</strong> Satisfactory</p>"
      ],
      "text/plain": [
       "q6 results: All test cases passed!\n",
       "q6 - 1 message: Satisfactory"
      ]
     },
     "execution_count": 29,
     "metadata": {},
     "output_type": "execute_result"
    }
   ],
   "source": [
    "grader.check(\"q6\")"
   ]
  },
  {
   "cell_type": "markdown",
   "metadata": {},
   "source": [
    "### Programming Questions (4 points each)\n",
    "\n",
    "These questions require you to write code in `Python`. This week's homework explores one-time pads and the sponge function design."
   ]
  },
  {
   "cell_type": "markdown",
   "metadata": {
    "deletable": false,
    "editable": false
   },
   "source": [
    "**Question 7 (Two-time pad attack).** In this question, you will see why it is important never to re-use the key in a one-time pad.\n",
    "\n",
    "To begin, execute the code block below. It executes a one-time pad for 3-byte messages."
   ]
  },
  {
   "cell_type": "code",
   "execution_count": 30,
   "metadata": {
    "deletable": false,
    "editable": false
   },
   "outputs": [],
   "source": [
    "## Execute, but DO NOT MODIFY this code block ##\n",
    "\n",
    "from Cryptodome.Util.strxor import strxor\n",
    "from os import urandom\n",
    "from binascii import hexlify, unhexlify\n",
    "\n",
    "def OTP_encrypt(pt, key):\n",
    "    \"\"\" Given pt and key in byte, return ciphertext c = (pt xor key).\n",
    "    \"\"\"\n",
    "    assert len(pt)   == 3\n",
    "    assert len(key)  == 3\n",
    "    assert type(pt)  == bytes\n",
    "    assert type(key) == bytes\n",
    "    return strxor(pt, key)\n",
    "\n",
    "# common 3-letter English words\n",
    "# source: https://en.wikipedia.org/wiki/Most_common_words_in_English\n",
    "common_words = [b\"all\", b\"and\", b\"any\", b\"but\", b\"can\", b\"day\", b\"for\",\n",
    "                b\"get\", b\"her\", b\"him\", b\"his\", b\"how\", b\"its\", b\"new\",\n",
    "                b\"not\", b\"now\", b\"one\", b\"our\", b\"out\", b\"say\", b\"see\",\n",
    "                b\"she\", b\"the\", b\"two\", b\"use\", b\"way\", b\"who\", b\"you\"]"
   ]
  },
  {
   "cell_type": "markdown",
   "metadata": {
    "deletable": false,
    "editable": false
   },
   "source": [
    "A one-time pad performs the bitwise logical XOR of the plaintext and key. We provide an example below. (Note that each time you execute this code block, a new key is randomly sampled and as a result the ciphertext changes.)"
   ]
  },
  {
   "cell_type": "code",
   "execution_count": 31,
   "metadata": {
    "deletable": false,
    "editable": false
   },
   "outputs": [
    {
     "name": "stdout",
     "output_type": "stream",
     "text": [
      "plaintext:  b'616c6c'\n",
      "key:        b'f8a175'\n",
      "ciphertext: b'99cd19'\n"
     ]
    }
   ],
   "source": [
    "from os import urandom\n",
    "from binascii import hexlify, unhexlify\n",
    "\n",
    "pt  = b\"all\"\n",
    "print(\"plaintext: \", hexlify(pt))\n",
    "\n",
    "key = urandom(3)\n",
    "print(\"key:       \", hexlify(key))\n",
    "print(\"ciphertext:\", hexlify(OTP_encrypt(pt, key))) # ciphertext length: 3 bytes"
   ]
  },
  {
   "cell_type": "markdown",
   "metadata": {
    "deletable": false,
    "editable": false
   },
   "source": [
    "**Your task:** Given two ciphertexts that correspond to the one time pad of (potentially different) `common_words` with the *same key*, find the two underlying plaintexts and return them as a Python set."
   ]
  },
  {
   "cell_type": "code",
   "execution_count": 35,
   "metadata": {
    "tags": []
   },
   "outputs": [],
   "source": [
    "def q7_two_time_pad_attack(ct1: bytes, ct2: bytes) -> set:\n",
    "    # use this variable for your eventual solution\n",
    "    plaintexts = set()\n",
    "    \n",
    "    xor_ct = strxor(ct1, ct2)\n",
    "\n",
    "    for i in range(len(common_words)):\n",
    "        for j in range(i+1, len(common_words)):\n",
    "            pt1 = strxor(xor_ct, common_words[i])\n",
    "            pt2 = strxor(xor_ct, common_words[j])\n",
    "            if pt1 in common_words and pt2 in common_words:\n",
    "                plaintexts.add(pt1)\n",
    "                plaintexts.add(pt2)\n",
    "        \n",
    "\n",
    "    assert type(plaintexts) == set\n",
    "    return plaintexts"
   ]
  },
  {
   "cell_type": "markdown",
   "metadata": {
    "deletable": false,
    "editable": false
   },
   "source": [
    "Our test for this question samples two plaintexts at random from `common_words` and a single key as a random bytestring of length 3. It provides the two corresponding ciphertexts as inputs to your function."
   ]
  },
  {
   "cell_type": "code",
   "execution_count": 36,
   "metadata": {
    "deletable": false,
    "editable": false
   },
   "outputs": [
    {
     "data": {
      "text/html": [
       "<p><strong><pre style='display: inline;'>q7</pre></strong> passed! 🙌</p>"
      ],
      "text/plain": [
       "q7 results: All test cases passed!"
      ]
     },
     "execution_count": 36,
     "metadata": {},
     "output_type": "execute_result"
    }
   ],
   "source": [
    "grader.check(\"q7\")"
   ]
  },
  {
   "cell_type": "markdown",
   "metadata": {
    "deletable": false,
    "editable": false
   },
   "source": [
    "**Question 8 (Sponge function).** The *sponge function* forms the basis of the SHA-3 hash function (aka Keccak). See the following Wikipedia page for a reminder of the design: [[link]](https://en.wikipedia.org/wiki/Sponge_function).\n",
    "\n",
    "The sponge construction requires a public, fixed-length, random-looking permutation `f`. Since we haven't yet discussed in class how the actual Keccak-`f` function works, in this problem let's instead use a toy 32-byte permutation that is provided below."
   ]
  },
  {
   "cell_type": "code",
   "execution_count": 37,
   "metadata": {
    "deletable": false,
    "editable": false
   },
   "outputs": [],
   "source": [
    "## Execute, but DO NOT MODIFY this code block ##\n",
    "\n",
    "from Cryptodome.Cipher import AES\n",
    "from Cryptodome.Util.strxor import strxor\n",
    "\n",
    "def toy_f(input_bytes):\n",
    "    \"\"\"\n",
    "    Toy example of a pseudorandom permutation. While it is **NOT** secure and\n",
    "    should not be used in practice, we will use it in this homework for learning purposes.\n",
    "\n",
    "    The input and output length of this permutation is 32 bytes. Note that toy_f\n",
    "    is invertible, but you do not need the inverse function to copmlete the HW question.\n",
    "    \"\"\"\n",
    "    assert len(input_bytes) == 32, \"incorrect length\" # input length must be 32\n",
    "    prp1 = AES.new(b\"AES with key one\", AES.MODE_ECB) # run AES twice with fixed keys\n",
    "    prp2 = AES.new(b\"AES with key two\", AES.MODE_ECB)\n",
    "    return prp1.encrypt(input_bytes[:16]) + prp2.encrypt(input_bytes[-16:])"
   ]
  },
  {
   "cell_type": "markdown",
   "metadata": {
    "deletable": false,
    "editable": false
   },
   "source": [
    "**Your task**: Design a sponge function that *absorbs* an arbitrary-length input bytestring using the specified `rate`, and then *squeezes* an output that contains `outputLen` bytes of data.\n",
    "        \n",
    "Notes:\n",
    "- Don't worry about padding; that is, you may assume that inputs are always a multiple of `rate` bytes in length.\n",
    "- Keep in mind that `rate + capacity = 32`, so the capacity size is determined by the rate size."
   ]
  },
  {
   "cell_type": "code",
   "execution_count": 86,
   "metadata": {
    "tags": []
   },
   "outputs": [],
   "source": [
    "def q8_sponge_function(inputBytes: bytes, outputLen: int, rate: int) -> bytes:\n",
    "    assert(len(inputBytes) % rate == 0), \"invalid input length\"\n",
    "    state = bytearray(32)\n",
    "    \n",
    "    for i in range(0, len(inputBytes), rate):\n",
    "        block = inputBytes[i:i + rate]\n",
    "        if len(block)<rate:\n",
    "            block = block + bytearray(rate - len(block))\n",
    "        state = strxor(state, block+bytearray(32-rate))\n",
    "        state = toy_f(state)\n",
    "\n",
    "    output = bytearray()\n",
    "\n",
    "    while len(output) < outputLen:\n",
    "        output.extend(state[:min(rate, outputLen - len(output))])\n",
    "        if outputLen - len(output) > 0:\n",
    "            state = toy_f(state)\n",
    "\n",
    "    return bytes(output[:outputLen])\n"
   ]
  },
  {
   "cell_type": "markdown",
   "metadata": {
    "deletable": false,
    "editable": false
   },
   "source": [
    "Here are a few test cases that you can use in this question."
   ]
  },
  {
   "cell_type": "code",
   "execution_count": 87,
   "metadata": {
    "deletable": false,
    "editable": false
   },
   "outputs": [],
   "source": [
    "from binascii import hexlify, unhexlify\n",
    "\n",
    "def q8_test_cases():\n",
    "    assert q8_sponge_function(unhexlify(b'9654'), 1, 2) == unhexlify(b'13')\n",
    "    assert q8_sponge_function(unhexlify(b'1a2b'), 2, 2) == unhexlify(b'e7fe')\n",
    "    assert q8_sponge_function(unhexlify(b'd0c91003bfabab35fa'), 3, 3) == unhexlify(b'eff815')\n",
    "    assert q8_sponge_function(unhexlify(b'b57bf48ce793c55f98027ec7'), 3, 3) == unhexlify(b'd5d0c8')\n",
    "    assert q8_sponge_function(unhexlify(b'e8757bd4dfefd2bda87a5ac7'), 5, 3) == unhexlify(b'266a0c920f')\n",
    "    assert q8_sponge_function(unhexlify(b'eb65fe6c985e56f26d76812b42d18e0b6872ba61a3024e5188'), 6, 5) == unhexlify(b'328a1be2d287')\n",
    "    assert q8_sponge_function(unhexlify(b'1866a4fddb2449a9aa6705579e4856ba486bf6ae0d38cc3dbbdc20f3'), 18, 7) == unhexlify(b'419633435409c71a8b9655bf278e05ea1015')\n",
    "\n",
    "q8_test_cases()"
   ]
  },
  {
   "cell_type": "code",
   "execution_count": 88,
   "metadata": {
    "deletable": false,
    "editable": false
   },
   "outputs": [
    {
     "data": {
      "text/html": [
       "<p><strong><pre style='display: inline;'>q8</pre></strong> passed! 🎉</p>"
      ],
      "text/plain": [
       "q8 results: All test cases passed!"
      ]
     },
     "execution_count": 88,
     "metadata": {},
     "output_type": "execute_result"
    }
   ],
   "source": [
    "grader.check(\"q8\")"
   ]
  },
  {
   "cell_type": "markdown",
   "metadata": {},
   "source": [
    "### Collaboration Policy\n",
    "\n",
    "Congratulations on completing the homework! Before you submit the assignment: list all collaborators, sources, and AI tools in accordance with the collaboration policy. Doing so is to your advantage: this is your opportunity to document and explain any external information used and why you believe it adheres to the code of conduct and collaboration policy. If I discover an undocumented violation of the collaboration policy, then this will be considered academic misconduct.\n",
    "\n",
    "A. Write the names of all classmates you worked with, along with a short description of the work that you performed together."
   ]
  },
  {
   "cell_type": "markdown",
   "metadata": {},
   "source": [
    "**Your response:** "
   ]
  },
  {
   "cell_type": "markdown",
   "metadata": {},
   "source": [
    "B. List all written materials that you used, such as books or websites (besides the lecture notes and course textbooks). Provide links to any web-based resources, or citations to any physical works."
   ]
  },
  {
   "cell_type": "markdown",
   "metadata": {},
   "source": [
    "**Your response:** "
   ]
  },
  {
   "cell_type": "markdown",
   "metadata": {},
   "source": [
    "C. State all code that you used from other sources. In particular, if you used an AI tool, then you must include the entire exchange with the AI tool, as per the [CDS Generative AI Assistance Policy](https://www.bu.edu/cds-faculty/culture-community/gaia-policy/)."
   ]
  },
  {
   "cell_type": "markdown",
   "metadata": {},
   "source": [
    "**Your response:** "
   ]
  },
  {
   "cell_type": "markdown",
   "metadata": {
    "id": "-algFmYgThpr"
   },
   "source": [
    "### Sending to Gradescope\n",
    "\n",
    "After completing the assignment, submit only the `.ipynb` file to Gradescope. It takes a while for the auto grading system to check your work."
   ]
  }
 ],
 "metadata": {
  "colab": {
   "provenance": []
  },
  "kernelspec": {
   "display_name": ".venv",
   "language": "python",
   "name": "python3"
  },
  "language_info": {
   "codemirror_mode": {
    "name": "ipython",
    "version": 3
   },
   "file_extension": ".py",
   "mimetype": "text/x-python",
   "name": "python",
   "nbconvert_exporter": "python",
   "pygments_lexer": "ipython3",
   "version": "3.12.3"
  },
  "otter": {
   "assignment_name": "hw06"
  },
  "varInspector": {
   "cols": {
    "lenName": 16,
    "lenType": 16,
    "lenVar": 40
   },
   "kernels_config": {
    "python": {
     "delete_cmd_postfix": "",
     "delete_cmd_prefix": "del ",
     "library": "var_list.py",
     "varRefreshCmd": "print(var_dic_list())"
    },
    "r": {
     "delete_cmd_postfix": ") ",
     "delete_cmd_prefix": "rm(",
     "library": "var_list.r",
     "varRefreshCmd": "cat(var_dic_list()) "
    }
   },
   "types_to_exclude": [
    "module",
    "function",
    "builtin_function_or_method",
    "instance",
    "_Feature"
   ],
   "window_display": false
  }
 },
 "nbformat": 4,
 "nbformat_minor": 0
}
