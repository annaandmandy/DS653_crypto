{
 "cells": [
  {
   "cell_type": "markdown",
   "metadata": {},
   "source": [
    "# Challenge 1"
   ]
  },
  {
   "cell_type": "code",
   "execution_count": 1,
   "metadata": {},
   "outputs": [],
   "source": [
    "# librarys used\n",
    "import requests"
   ]
  },
  {
   "cell_type": "code",
   "execution_count": 2,
   "metadata": {},
   "outputs": [],
   "source": [
    "# get instructors transaction data to identify students\n",
    "instructor_address = \"https://mempool.space/testnet/api/address/mvvssVimoMGdJ2fExKvH1ydjqRQLdbswQe/txs\"\n",
    "response = requests.get(instructor_address)\n",
    "instructor_txs = response.json()\n"
   ]
  },
  {
   "cell_type": "code",
   "execution_count": 3,
   "metadata": {},
   "outputs": [
    {
     "name": "stdout",
     "output_type": "stream",
     "text": [
      "50\n"
     ]
    }
   ],
   "source": [
    "# a total of 50 transactions\n",
    "count = 0\n",
    "for tx in instructor_txs:\n",
    "     count += 1\n",
    "print(count)"
   ]
  },
  {
   "cell_type": "code",
   "execution_count": 4,
   "metadata": {},
   "outputs": [],
   "source": [
    "# checkpoint one: sending money to instructors, these are the potential students\n",
    "transaction_student_id = []\n",
    "for tx in instructor_txs:\n",
    "    prev_trans = []\n",
    "    for index, receiver in enumerate(tx[\"vout\"]):\n",
    "        if receiver[\"scriptpubkey_address\"] == \"mvvssVimoMGdJ2fExKvH1ydjqRQLdbswQe\":  \n",
    "            transaction_student_id.append(tx[\"txid\"])\n",
    "            break"
   ]
  },
  {
   "cell_type": "code",
   "execution_count": 5,
   "metadata": {},
   "outputs": [],
   "source": [
    "def check_trans(txid):\n",
    "    trans_address = f\"https://mempool.space/testnet/api/tx/{txid}\"\n",
    "    response = requests.get(trans_address)\n",
    "    trans_tx = response.json()\n",
    "    return trans_tx"
   ]
  },
  {
   "cell_type": "markdown",
   "metadata": {},
   "source": [
    "If a transaction's last vout is Instrutor's key, it could be sending their remaining money. However, if there is transaction after sending to the instructor, then it is not by a student. If there is transaction before Instrutor, it might be student senting to another student, we should record it."
   ]
  },
  {
   "cell_type": "code",
   "execution_count": 6,
   "metadata": {},
   "outputs": [],
   "source": [
    "transaction_student_id_2 = []\n",
    "transaction_student_id_notpass = []\n",
    "student_potential = []\n",
    "for index,tx in enumerate(transaction_student_id):\n",
    "    # check the txid that was sent to instructor\n",
    "    trans_tx = check_trans(tx)\n",
    "    might_student = True\n",
    "    findProf = False\n",
    "    for i in range(len(trans_tx[\"vout\"])-1, -1, -1):\n",
    "        # if not instructor and havent find instructor, moving from back to front, it is not a student\n",
    "        if trans_tx[\"vout\"][i][\"scriptpubkey_address\"] != \"mvvssVimoMGdJ2fExKvH1ydjqRQLdbswQe\": \n",
    "            if trans_tx[\"vout\"][i][\"value\"] != 0 and not findProf:\n",
    "                might_student = False\n",
    "                # if already find instrutor, prev transactions might be sending to students\n",
    "            if might_student and trans_tx[\"vout\"][i][\"value\"] != 0 and findProf:\n",
    "                student_potential.append(trans_tx[\"vout\"][i][\"scriptpubkey_address\"])\n",
    "        if trans_tx[\"vout\"][i][\"scriptpubkey_address\"] == \"mvvssVimoMGdJ2fExKvH1ydjqRQLdbswQe\": \n",
    "            findProf = True\n",
    "        if might_student == False:\n",
    "            break\n",
    "    if  might_student == True:\n",
    "        transaction_student_id_2.append(tx)\n",
    "    else:\n",
    "        transaction_student_id_notpass.append(tx)"
   ]
  },
  {
   "cell_type": "code",
   "execution_count": 7,
   "metadata": {},
   "outputs": [],
   "source": [
    "def getprevAddress(tx):\n",
    "    if tx[\"vin\"][0]['is_coinbase'] == False:\n",
    "        return tx[\"vin\"][0][\"prevout\"][\"scriptpubkey_address\"]"
   ]
  },
  {
   "cell_type": "code",
   "execution_count": 8,
   "metadata": {},
   "outputs": [],
   "source": [
    "student_potential = []\n",
    "for tx in transaction_student_id_2:\n",
    "    tx_data = check_trans(tx)\n",
    "    address = getprevAddress(tx_data)\n",
    "    if address != None:\n",
    "        student_potential.append(address)"
   ]
  },
  {
   "cell_type": "code",
   "execution_count": 9,
   "metadata": {},
   "outputs": [
    {
     "data": {
      "text/plain": [
       "['mkLG9f8gkxE1WRwHXSrmkbY8PJZrE6nvwT',\n",
       " 'myqS6CYCpTQ1pBxuAJUXeJ9nG6posP5fk5',\n",
       " 'mow22DE1bZreNCKCiYuLqbdJgcqKVpUFEz',\n",
       " 'mpKLDRQ6FbPfLyn9Ltez5y2SVVywhD5UpV',\n",
       " 'mtTJ8cd7ueASBGSaJgDFW2XpbEg38CHv5d',\n",
       " 'mnuvBdZZVMbi8HLmzD3jhLb7ZK92HTm8yt',\n",
       " 'mtq8CHWT2zNf2DbmWBAqJm1G8ATSQpbNuH',\n",
       " 'miWjfZrPXtJgw5dCZwt7QteXXVisz2B76L',\n",
       " 'mg16N7vFdsj5A7KcUUqtWhtuXsXgffAHbH',\n",
       " 'mxXVdSsDeyju7rHmgUbhaxEnUh7WEBTmUZ',\n",
       " 'miwuEN8mtZLdD6Xu2Y984hkED2okxSteR1',\n",
       " 'mtLGK7Esq6osYWPGSGnU5dnwR4A81Tx6hf',\n",
       " 'msFSxwS26KEu9PL2jKxPzpaWKQNSaiAYs5',\n",
       " 'motL6Hw6haUuRP2m4navXdxk58VP1SPmC6',\n",
       " 'mhi2WES4Po2bkGTpgD99nvT8FytFJbnRRS',\n",
       " 'mfqLuta34tcfgyPEd4UTXqGTeJSFSBTC7P',\n",
       " 'myan7jo4NjvJBFwMidsAspz9MiTWDsJKM1',\n",
       " 'mqecNCZ8Mac3zDYtrzEXVybMizHpPHXEki',\n",
       " 'n4U35yvC6sxwS5uJgb5RTzqT4ADimRnPDk',\n",
       " 'n4U35yvC6sxwS5uJgb5RTzqT4ADimRnPDk',\n",
       " 'n3iGRVHSUkurUZu5sUe8NZ9h7aPMbZqgqG',\n",
       " 'mqZkgccnwiYTjESxxYE8jLRrUKftpd695i']"
      ]
     },
     "execution_count": 9,
     "metadata": {},
     "output_type": "execute_result"
    }
   ],
   "source": [
    "student_potential\n"
   ]
  },
  {
   "cell_type": "code",
   "execution_count": 10,
   "metadata": {},
   "outputs": [],
   "source": [
    "# get the txid from the students\n",
    "transaction_final = []\n",
    "\n",
    "for student in student_potential:\n",
    "    # get these students transactions\n",
    "    student_address = \"https://mempool.space/testnet/api/address/mtq8CHWT2zNf2DbmWBAqJm1G8ATSQpbNuH/txs\"\n",
    "    response = requests.get(student_address)\n",
    "    student_txs = response.json()\n",
    "    for stx in student_txs:\n",
    "        transaction_final.append(stx[\"txid\"])"
   ]
  },
  {
   "cell_type": "code",
   "execution_count": 11,
   "metadata": {},
   "outputs": [
    {
     "data": {
      "text/plain": [
       "88"
      ]
     },
     "execution_count": 11,
     "metadata": {},
     "output_type": "execute_result"
    }
   ],
   "source": [
    "len(transaction_final)"
   ]
  },
  {
   "cell_type": "code",
   "execution_count": 12,
   "metadata": {},
   "outputs": [
    {
     "data": {
      "text/plain": [
       "['9894a2e3f58cfcfe8621328faa660ed7891aade21c4ce9a998f4a28895ebb791',\n",
       " '5366895629f1bf92cfa6e40d6005482329808da83584fec4e003196541c568de',\n",
       " 'fc1dcac8020fe01dc5c612a6b9256c9a97ea061a8d132d85936ee8c480e39f25',\n",
       " '1f1e96e8a15b438a849cf2f37381b5a011db37ec934778168d0d77f65a534c0b',\n",
       " '9894a2e3f58cfcfe8621328faa660ed7891aade21c4ce9a998f4a28895ebb791',\n",
       " '5366895629f1bf92cfa6e40d6005482329808da83584fec4e003196541c568de',\n",
       " 'fc1dcac8020fe01dc5c612a6b9256c9a97ea061a8d132d85936ee8c480e39f25',\n",
       " '1f1e96e8a15b438a849cf2f37381b5a011db37ec934778168d0d77f65a534c0b',\n",
       " '9894a2e3f58cfcfe8621328faa660ed7891aade21c4ce9a998f4a28895ebb791',\n",
       " '5366895629f1bf92cfa6e40d6005482329808da83584fec4e003196541c568de',\n",
       " 'fc1dcac8020fe01dc5c612a6b9256c9a97ea061a8d132d85936ee8c480e39f25',\n",
       " '1f1e96e8a15b438a849cf2f37381b5a011db37ec934778168d0d77f65a534c0b',\n",
       " '9894a2e3f58cfcfe8621328faa660ed7891aade21c4ce9a998f4a28895ebb791',\n",
       " '5366895629f1bf92cfa6e40d6005482329808da83584fec4e003196541c568de',\n",
       " 'fc1dcac8020fe01dc5c612a6b9256c9a97ea061a8d132d85936ee8c480e39f25',\n",
       " '1f1e96e8a15b438a849cf2f37381b5a011db37ec934778168d0d77f65a534c0b',\n",
       " '9894a2e3f58cfcfe8621328faa660ed7891aade21c4ce9a998f4a28895ebb791',\n",
       " '5366895629f1bf92cfa6e40d6005482329808da83584fec4e003196541c568de',\n",
       " 'fc1dcac8020fe01dc5c612a6b9256c9a97ea061a8d132d85936ee8c480e39f25',\n",
       " '1f1e96e8a15b438a849cf2f37381b5a011db37ec934778168d0d77f65a534c0b',\n",
       " '9894a2e3f58cfcfe8621328faa660ed7891aade21c4ce9a998f4a28895ebb791',\n",
       " '5366895629f1bf92cfa6e40d6005482329808da83584fec4e003196541c568de',\n",
       " 'fc1dcac8020fe01dc5c612a6b9256c9a97ea061a8d132d85936ee8c480e39f25',\n",
       " '1f1e96e8a15b438a849cf2f37381b5a011db37ec934778168d0d77f65a534c0b',\n",
       " '9894a2e3f58cfcfe8621328faa660ed7891aade21c4ce9a998f4a28895ebb791',\n",
       " '5366895629f1bf92cfa6e40d6005482329808da83584fec4e003196541c568de',\n",
       " 'fc1dcac8020fe01dc5c612a6b9256c9a97ea061a8d132d85936ee8c480e39f25',\n",
       " '1f1e96e8a15b438a849cf2f37381b5a011db37ec934778168d0d77f65a534c0b',\n",
       " '9894a2e3f58cfcfe8621328faa660ed7891aade21c4ce9a998f4a28895ebb791',\n",
       " '5366895629f1bf92cfa6e40d6005482329808da83584fec4e003196541c568de',\n",
       " 'fc1dcac8020fe01dc5c612a6b9256c9a97ea061a8d132d85936ee8c480e39f25',\n",
       " '1f1e96e8a15b438a849cf2f37381b5a011db37ec934778168d0d77f65a534c0b',\n",
       " '9894a2e3f58cfcfe8621328faa660ed7891aade21c4ce9a998f4a28895ebb791',\n",
       " '5366895629f1bf92cfa6e40d6005482329808da83584fec4e003196541c568de',\n",
       " 'fc1dcac8020fe01dc5c612a6b9256c9a97ea061a8d132d85936ee8c480e39f25',\n",
       " '1f1e96e8a15b438a849cf2f37381b5a011db37ec934778168d0d77f65a534c0b',\n",
       " '9894a2e3f58cfcfe8621328faa660ed7891aade21c4ce9a998f4a28895ebb791',\n",
       " '5366895629f1bf92cfa6e40d6005482329808da83584fec4e003196541c568de',\n",
       " 'fc1dcac8020fe01dc5c612a6b9256c9a97ea061a8d132d85936ee8c480e39f25',\n",
       " '1f1e96e8a15b438a849cf2f37381b5a011db37ec934778168d0d77f65a534c0b',\n",
       " '9894a2e3f58cfcfe8621328faa660ed7891aade21c4ce9a998f4a28895ebb791',\n",
       " '5366895629f1bf92cfa6e40d6005482329808da83584fec4e003196541c568de',\n",
       " 'fc1dcac8020fe01dc5c612a6b9256c9a97ea061a8d132d85936ee8c480e39f25',\n",
       " '1f1e96e8a15b438a849cf2f37381b5a011db37ec934778168d0d77f65a534c0b',\n",
       " '9894a2e3f58cfcfe8621328faa660ed7891aade21c4ce9a998f4a28895ebb791',\n",
       " '5366895629f1bf92cfa6e40d6005482329808da83584fec4e003196541c568de',\n",
       " 'fc1dcac8020fe01dc5c612a6b9256c9a97ea061a8d132d85936ee8c480e39f25',\n",
       " '1f1e96e8a15b438a849cf2f37381b5a011db37ec934778168d0d77f65a534c0b',\n",
       " '9894a2e3f58cfcfe8621328faa660ed7891aade21c4ce9a998f4a28895ebb791',\n",
       " '5366895629f1bf92cfa6e40d6005482329808da83584fec4e003196541c568de',\n",
       " 'fc1dcac8020fe01dc5c612a6b9256c9a97ea061a8d132d85936ee8c480e39f25',\n",
       " '1f1e96e8a15b438a849cf2f37381b5a011db37ec934778168d0d77f65a534c0b',\n",
       " '9894a2e3f58cfcfe8621328faa660ed7891aade21c4ce9a998f4a28895ebb791',\n",
       " '5366895629f1bf92cfa6e40d6005482329808da83584fec4e003196541c568de',\n",
       " 'fc1dcac8020fe01dc5c612a6b9256c9a97ea061a8d132d85936ee8c480e39f25',\n",
       " '1f1e96e8a15b438a849cf2f37381b5a011db37ec934778168d0d77f65a534c0b',\n",
       " '9894a2e3f58cfcfe8621328faa660ed7891aade21c4ce9a998f4a28895ebb791',\n",
       " '5366895629f1bf92cfa6e40d6005482329808da83584fec4e003196541c568de',\n",
       " 'fc1dcac8020fe01dc5c612a6b9256c9a97ea061a8d132d85936ee8c480e39f25',\n",
       " '1f1e96e8a15b438a849cf2f37381b5a011db37ec934778168d0d77f65a534c0b',\n",
       " '9894a2e3f58cfcfe8621328faa660ed7891aade21c4ce9a998f4a28895ebb791',\n",
       " '5366895629f1bf92cfa6e40d6005482329808da83584fec4e003196541c568de',\n",
       " 'fc1dcac8020fe01dc5c612a6b9256c9a97ea061a8d132d85936ee8c480e39f25',\n",
       " '1f1e96e8a15b438a849cf2f37381b5a011db37ec934778168d0d77f65a534c0b',\n",
       " '9894a2e3f58cfcfe8621328faa660ed7891aade21c4ce9a998f4a28895ebb791',\n",
       " '5366895629f1bf92cfa6e40d6005482329808da83584fec4e003196541c568de',\n",
       " 'fc1dcac8020fe01dc5c612a6b9256c9a97ea061a8d132d85936ee8c480e39f25',\n",
       " '1f1e96e8a15b438a849cf2f37381b5a011db37ec934778168d0d77f65a534c0b',\n",
       " '9894a2e3f58cfcfe8621328faa660ed7891aade21c4ce9a998f4a28895ebb791',\n",
       " '5366895629f1bf92cfa6e40d6005482329808da83584fec4e003196541c568de',\n",
       " 'fc1dcac8020fe01dc5c612a6b9256c9a97ea061a8d132d85936ee8c480e39f25',\n",
       " '1f1e96e8a15b438a849cf2f37381b5a011db37ec934778168d0d77f65a534c0b',\n",
       " '9894a2e3f58cfcfe8621328faa660ed7891aade21c4ce9a998f4a28895ebb791',\n",
       " '5366895629f1bf92cfa6e40d6005482329808da83584fec4e003196541c568de',\n",
       " 'fc1dcac8020fe01dc5c612a6b9256c9a97ea061a8d132d85936ee8c480e39f25',\n",
       " '1f1e96e8a15b438a849cf2f37381b5a011db37ec934778168d0d77f65a534c0b',\n",
       " '9894a2e3f58cfcfe8621328faa660ed7891aade21c4ce9a998f4a28895ebb791',\n",
       " '5366895629f1bf92cfa6e40d6005482329808da83584fec4e003196541c568de',\n",
       " 'fc1dcac8020fe01dc5c612a6b9256c9a97ea061a8d132d85936ee8c480e39f25',\n",
       " '1f1e96e8a15b438a849cf2f37381b5a011db37ec934778168d0d77f65a534c0b',\n",
       " '9894a2e3f58cfcfe8621328faa660ed7891aade21c4ce9a998f4a28895ebb791',\n",
       " '5366895629f1bf92cfa6e40d6005482329808da83584fec4e003196541c568de',\n",
       " 'fc1dcac8020fe01dc5c612a6b9256c9a97ea061a8d132d85936ee8c480e39f25',\n",
       " '1f1e96e8a15b438a849cf2f37381b5a011db37ec934778168d0d77f65a534c0b',\n",
       " '9894a2e3f58cfcfe8621328faa660ed7891aade21c4ce9a998f4a28895ebb791',\n",
       " '5366895629f1bf92cfa6e40d6005482329808da83584fec4e003196541c568de',\n",
       " 'fc1dcac8020fe01dc5c612a6b9256c9a97ea061a8d132d85936ee8c480e39f25',\n",
       " '1f1e96e8a15b438a849cf2f37381b5a011db37ec934778168d0d77f65a534c0b']"
      ]
     },
     "execution_count": 12,
     "metadata": {},
     "output_type": "execute_result"
    }
   ],
   "source": [
    "transaction_final"
   ]
  },
  {
   "cell_type": "code",
   "execution_count": null,
   "metadata": {},
   "outputs": [],
   "source": []
  }
 ],
 "metadata": {
  "kernelspec": {
   "display_name": ".venv",
   "language": "python",
   "name": "python3"
  },
  "language_info": {
   "codemirror_mode": {
    "name": "ipython",
    "version": 3
   },
   "file_extension": ".py",
   "mimetype": "text/x-python",
   "name": "python",
   "nbconvert_exporter": "python",
   "pygments_lexer": "ipython3",
   "version": "3.12.3"
  }
 },
 "nbformat": 4,
 "nbformat_minor": 2
}
