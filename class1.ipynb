{
 "cells": [
  {
   "cell_type": "code",
   "execution_count": 1,
   "metadata": {},
   "outputs": [],
   "source": [
    "from binascii import hexlify"
   ]
  },
  {
   "cell_type": "code",
   "execution_count": 2,
   "metadata": {},
   "outputs": [
    {
     "name": "stdout",
     "output_type": "stream",
     "text": [
      "b'0000000000000000000000000000000000000000000000000000000000000000'\n"
     ]
    }
   ],
   "source": [
    "print(hexlify(32 * b'\\x00')) # 32 copies of the byte value 0 (printed in hex)"
   ]
  },
  {
   "cell_type": "code",
   "execution_count": 3,
   "metadata": {},
   "outputs": [
    {
     "name": "stdout",
     "output_type": "stream",
     "text": [
      "b'ffffffffffffffffffffffffffffffffffffffffffffffffffffffffffffffff'\n"
     ]
    }
   ],
   "source": [
    "print(hexlify(32 * b'\\xff')) # 32 copies of the byte value 255 (printed in hex)"
   ]
  },
  {
   "cell_type": "code",
   "execution_count": 4,
   "metadata": {},
   "outputs": [
    {
     "name": "stdout",
     "output_type": "stream",
     "text": [
      "byte  bits\n",
      "   0  0b00000000\n",
      "   1  0b00000001\n",
      "   2  0b00000010\n",
      "   3  0b00000011\n",
      "   4  0b00000100\n",
      "   5  0b00000101\n",
      "   6  0b00000110\n",
      "   7  0b00000111\n",
      "   8  0b00001000\n",
      " ...\n",
      " 248  0b11111000\n",
      " 249  0b11111001\n",
      " 250  0b11111010\n",
      " 251  0b11111011\n",
      " 252  0b11111100\n",
      " 253  0b11111101\n",
      " 254  0b11111110\n",
      " 255  0b11111111\n"
     ]
    }
   ],
   "source": [
    "# Table of all 256 values of a byte, in decimal and binary formats\n",
    "\n",
    "print(\"byte  bits\")\n",
    "for x in range(9): print(format(x, '#4d'), \"\", format(x, '#010b'))\n",
    "print(\" ...\")\n",
    "for x in range(248,256): print(format(x, '#4d'), \"\", format(x, '#010b'))"
   ]
  },
  {
   "cell_type": "code",
   "execution_count": 5,
   "metadata": {},
   "outputs": [
    {
     "name": "stdout",
     "output_type": "stream",
     "text": [
      "b'A'\n"
     ]
    },
    {
     "data": {
      "text/plain": [
       "bytes"
      ]
     },
     "execution_count": 5,
     "metadata": {},
     "output_type": "execute_result"
    }
   ],
   "source": [
    "s = b'A'\n",
    "print(s)\n",
    "type(s)"
   ]
  },
  {
   "cell_type": "code",
   "execution_count": 6,
   "metadata": {},
   "outputs": [
    {
     "name": "stdout",
     "output_type": "stream",
     "text": [
      "byte  ASCII character\n",
      "   0 \u0000\n",
      "   1 \u0001\n",
      "   2 \u0002\n",
      "   3 \u0003\n",
      " ...\n",
      "  65 A\n",
      "  66 B\n",
      "  67 C\n",
      "  68 D\n",
      "  69 E\n",
      " ...\n",
      " 251 û\n",
      " 252 ü\n",
      " 253 ý\n",
      " 254 þ\n",
      " 255 ÿ\n"
     ]
    }
   ],
   "source": [
    "print(\"byte  ASCII character\")\n",
    "for x in range(4): print(format(x, '#4d'), chr(x))\n",
    "print(\" ...\")\n",
    "for x in range(65,70): print(format(x, '#4d'), chr(x))\n",
    "print(\" ...\")\n",
    "for x in range(251,256): print(format(x, '#4d'), chr(x))"
   ]
  },
  {
   "cell_type": "code",
   "execution_count": 7,
   "metadata": {},
   "outputs": [
    {
     "name": "stdout",
     "output_type": "stream",
     "text": [
      "int   hex\n",
      "  0   0x00\n",
      "  1   0x01\n",
      "  2   0x02\n",
      "  3   0x03\n",
      "  4   0x04\n",
      "  5   0x05\n",
      "  6   0x06\n",
      "  7   0x07\n",
      "  8   0x08\n",
      "  9   0x09\n",
      " 10   0x0a\n",
      " 11   0x0b\n",
      " 12   0x0c\n",
      " 13   0x0d\n",
      " 14   0x0e\n",
      " 15   0x0f\n",
      "...\n",
      "240   0xf0\n",
      "241   0xf1\n",
      "242   0xf2\n",
      "243   0xf3\n",
      "244   0xf4\n",
      "245   0xf5\n",
      "246   0xf6\n",
      "247   0xf7\n",
      "248   0xf8\n",
      "249   0xf9\n",
      "250   0xfa\n",
      "251   0xfb\n",
      "252   0xfc\n",
      "253   0xfd\n",
      "254   0xfe\n",
      "255   0xff\n"
     ]
    }
   ],
   "source": [
    "print(\"int   hex\")\n",
    "for x in range(16):\n",
    "    print(format(x, '#3d'), \" \", format(x, '#04x'))\n",
    "print(\"...\")\n",
    "for x in range(240,256):\n",
    "    print(format(x, '#3d'), \" \", format(x, '#04x'))"
   ]
  },
  {
   "cell_type": "code",
   "execution_count": 11,
   "metadata": {},
   "outputs": [
    {
     "name": "stdout",
     "output_type": "stream",
     "text": [
      "65\n",
      "<class 'int'>\n"
     ]
    }
   ],
   "source": [
    "from Crypto.Util.number import bytes_to_long, long_to_bytes # requires PyCrypto\n",
    "from binascii import hexlify, unhexlify\n",
    "\n",
    "t = bytes_to_long(s)\n",
    "print(t)\n",
    "print(type(t))"
   ]
  },
  {
   "cell_type": "code",
   "execution_count": null,
   "metadata": {},
   "outputs": [],
   "source": []
  },
  {
   "cell_type": "code",
   "execution_count": null,
   "metadata": {},
   "outputs": [],
   "source": []
  }
 ],
 "metadata": {
  "kernelspec": {
   "display_name": ".venv",
   "language": "python",
   "name": "python3"
  },
  "language_info": {
   "codemirror_mode": {
    "name": "ipython",
    "version": 3
   },
   "file_extension": ".py",
   "mimetype": "text/x-python",
   "name": "python",
   "nbconvert_exporter": "python",
   "pygments_lexer": "ipython3",
   "version": "3.12.3"
  }
 },
 "nbformat": 4,
 "nbformat_minor": 2
}
