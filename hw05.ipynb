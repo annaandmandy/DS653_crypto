{
 "cells": [
  {
   "cell_type": "markdown",
   "metadata": {
    "id": "L6vqYT5xThpc"
   },
   "source": [
    "# DS 653 -- Homework 5\n",
    "\n",
    "**Due:** Saturday, March 8 at 10pm on [Gradescope](https://www.gradescope.com/courses/959425).\n",
    "\n",
    "_You must follow the Academic Code of Conduct and Collaboration Policy stated in the course syllabus at all times while working on this assignment._\n",
    "\n",
    "This assignment contains 4 questions worth a total of 20 points. You will earn:\n",
    "- 1 course learning credit for earning at least 10 points, or\n",
    "- 2 course learning credits for earning at least 20 points on this homework.\n",
    "\n",
    "_If you write code that attempts to fool the tests rather than solving the actual question, then you will receive a 0 on the assignment and it will be considered a violation of the Academic Code of Conduct._"
   ]
  },
  {
   "cell_type": "markdown",
   "metadata": {},
   "source": [
    "This homework is configured to run either on Google Colab or locally on your computer. If you run it locally, please make sure that this Jupyter notebook is the only file in its directory.\n",
    "\n",
    "To begin, please execute the code block below. It will download this week's auto-grading tests, install and configure otter-grader, and import the crypto and bytestring libraries that we use in this course."
   ]
  },
  {
   "cell_type": "code",
   "execution_count": 5,
   "metadata": {
    "id": "-wnlMZVtThpd",
    "outputId": "19142d18-33f5-47c6-c6d8-309ae3a7f6b2"
   },
   "outputs": [
    {
     "name": "stdout",
     "output_type": "stream",
     "text": [
      "/bin/bash: line 1: /home/annaandmandy/ds653/DS653_crypto/.venv/bin/pip: cannot execute: required file not found\n"
     ]
    },
    {
     "name": "stdout",
     "output_type": "stream",
     "text": [
      "File ./hw05.zip already exists. Skipping download.\n",
      "Extracting ./hw05.zip to ./tests...\n",
      "Unzipped ./hw05.zip to ./tests\n"
     ]
    }
   ],
   "source": [
    "url = \"https://crypto-ds.github.io/hw05.zip\"\n",
    "\n",
    "!pip install -q otter-grader && pip install pycryptodomex\n",
    "\n",
    "# Download zip file containing tests\n",
    "import os\n",
    "import urllib.request\n",
    "\n",
    "zip_file_name = url.split(\"/\")[-1]  # Extract filename from URL\n",
    "zip_path = os.path.join(os.curdir,zip_file_name)\n",
    "\n",
    "if not os.path.exists(zip_path):\n",
    "    print(f\"Downloading {url} to {zip_path}...\")\n",
    "    urllib.request.urlretrieve(url, zip_path)\n",
    "    print(\"Download complete.\")\n",
    "else:\n",
    "    print(f\"File {zip_path} already exists. Skipping download.\")\n",
    "\n",
    "# Extract test files from zip\n",
    "import zipfile\n",
    "\n",
    "extract_dir = os.path.join(os.curdir, \"tests\") # Where to extract the files\n",
    "if not os.path.exists(extract_dir):            # Ensure extraction directory exists\n",
    "    os.makedirs(extract_dir)\n",
    "\n",
    "print(f\"Extracting {zip_path} to {extract_dir}...\")\n",
    "with zipfile.ZipFile(zip_path, 'r') as zip_ref:\n",
    "    zip_ref.extractall(extract_dir)\n",
    "\n",
    "print(f\"Unzipped {zip_path} to {extract_dir}\")\n",
    "\n",
    "# Initialize otter-grader\n",
    "import otter\n",
    "grader = otter.Notebook()\n",
    "\n",
    "# Import crypto libraries\n",
    "import Cryptodome\n",
    "from binascii import hexlify, unhexlify\n",
    "from hashlib import sha256"
   ]
  },
  {
   "cell_type": "markdown",
   "metadata": {},
   "source": [
    "### Reading Questions\n",
    "\n",
    "These multiple-choice questions are based on the week 7 reading assignment: [Shi, chapters 6 and 13.1-13.2](http://elaineshi.com/docs/blockchain-book.pdf). To answer a question, please uncomment the correct response."
   ]
  },
  {
   "cell_type": "markdown",
   "metadata": {
    "deletable": false,
    "editable": false
   },
   "source": [
    "**Question 1 (From broadcast to blockchains).** Section 6.3 of the textbook shows how to construct a (long-running) permissioned, synchronous blockchain from a (one-time) Byzantine Broadcast protocol. The main idea is to run many Byzantine Broadcasts over and over again. How does the protocol decide who is the leader in any given epoch?\n",
    "\n",
    "1. Anyone who wants to post a transaction must also be the leader and propose a new block.\n",
    "2. Everyone races to send a block at the same time, and whichever broadcast protocol completes first is deemed to be the valid block.\n",
    "3. The parties go in order from party 1 to party $n$, and then cycle back to party 1 again."
   ]
  },
  {
   "cell_type": "code",
   "execution_count": 6,
   "metadata": {
    "tags": []
   },
   "outputs": [],
   "source": [
    "def hw5_q1() -> int:\n",
    "    # return 1\n",
    "    # return 2\n",
    "    return 3"
   ]
  },
  {
   "cell_type": "code",
   "execution_count": 7,
   "metadata": {
    "deletable": false,
    "editable": false
   },
   "outputs": [
    {
     "data": {
      "text/html": [
       "<p><strong><pre style='display: inline;'>q1</pre></strong> passed! 🌟</p><p><strong><pre style='display: inline;'>q1 - 1</pre> message:</strong> Satisfactory</p>"
      ],
      "text/plain": [
       "q1 results: All test cases passed!\n",
       "q1 - 1 message: Satisfactory"
      ]
     },
     "execution_count": 7,
     "metadata": {},
     "output_type": "execute_result"
    }
   ],
   "source": [
    "grader.check(\"q1\")"
   ]
  },
  {
   "cell_type": "markdown",
   "metadata": {
    "deletable": false,
    "editable": false
   },
   "source": [
    "**Question 2 (Common coin).** Section 13.1 of the textbook discusses the CommonCoin protocol. It is possible to build an interactive CommonCoin protocol that provides all but one of the following properties. Which of the following is **not** a feature of CommonCoin?\n",
    "\n",
    "1. It supports asynchronous communication networks, where there is no known upper bound on the amount of time needed for a message to reach its receiver.\n",
    "2. It supports a *dishonest majority*, where there can be more malicious parties than honest parties.\n",
    "3. It provides *unpredictability*: the malicious parties cannot know the result of the coin toss until enough honest parties have participated in the protocol."
   ]
  },
  {
   "cell_type": "code",
   "execution_count": 8,
   "metadata": {
    "tags": []
   },
   "outputs": [],
   "source": [
    "def hw5_q2() -> int:\n",
    "    # return 1\n",
    "    return 2\n",
    "    # return 3"
   ]
  },
  {
   "cell_type": "code",
   "execution_count": 9,
   "metadata": {
    "deletable": false,
    "editable": false
   },
   "outputs": [
    {
     "data": {
      "text/html": [
       "<p><strong><pre style='display: inline;'>q2</pre></strong> passed! 🚀</p><p><strong><pre style='display: inline;'>q2 - 1</pre> message:</strong> Satisfactory</p>"
      ],
      "text/plain": [
       "q2 results: All test cases passed!\n",
       "q2 - 1 message: Satisfactory"
      ]
     },
     "execution_count": 9,
     "metadata": {},
     "output_type": "execute_result"
    }
   ],
   "source": [
    "grader.check(\"q2\")"
   ]
  },
  {
   "cell_type": "markdown",
   "metadata": {},
   "source": [
    "### Programming Questions\n",
    "\n",
    "These questions require you to write code in `Python`. This week's homework focuses on the Gradecast and phase-king protocols, both of which are consensus protocols in the synchronous setting."
   ]
  },
  {
   "cell_type": "markdown",
   "metadata": {},
   "source": [
    "#### Overview\n",
    "\n",
    "To begin: the instructors have provided code that will act as the synchronous network to connect a collection of $n$ parties. We provide the code below. While you should read it in detail to make sure you understand its behavior, for now just execute the code block and we will show an example below."
   ]
  },
  {
   "cell_type": "code",
   "execution_count": 10,
   "metadata": {},
   "outputs": [],
   "source": [
    "## Execute, but DO NOT MODIFY this code block ##\n",
    "\n",
    "import random\n",
    "from enum import IntEnum\n",
    "\n",
    "# The Value enum contains all possible values that an honest or faulty party can send:\n",
    "# either a bit (0 or 1) or a special catch-all value called \"Null\" for anything else.\n",
    "class Value(IntEnum):\n",
    "    Zero = 0\n",
    "    One  = 1\n",
    "    Null = -999\n",
    "\n",
    "# The Party class is a base class representing a single participant in a distributed protocol.\n",
    "# This party can choose what messages to send, and can record the contents of messages received.\n",
    "class Party:\n",
    "    def __init__(self, id: int, nb_faulty_parties: int, nb_total_parties: int, input: Value):\n",
    "        # Precondition: we guarantee that the party's id is between 1 and n\n",
    "        self.id = id\n",
    "        # In your code, you should assume that the party is honest\n",
    "        # (we handle faulty parties separately in the SynchronousNetwork class)\n",
    "        self.input = input\n",
    "        self.is_faulty = False\n",
    "        self.f = nb_faulty_parties\n",
    "        self.n = nb_total_parties\n",
    "\n",
    "    # send and receive proceeds in rounds\n",
    "    # our SynchronousNetwork always completes one round before starting the next one\n",
    "    def send(self, round_number: int, destination_party: int) -> Value:\n",
    "        return\n",
    "\n",
    "    def receive(self, round_number: int, sender_party: int, val: Value) -> None:\n",
    "        # do an action based on what you receive from the sender party\n",
    "        # but don't return anything\n",
    "        return None\n",
    "\n",
    "    # the output method is only run once at the end of the protocol\n",
    "    # after all rounds of communication are complete\n",
    "    def output(self):\n",
    "        ## return what this party decides to output\n",
    "        return\n",
    "\n",
    "class SynchronousNetwork:\n",
    "    def __init__(self, PartyType, nb_faulty_parties: int,\n",
    "                 nb_total_parties: int, inputs: list, debug=False):\n",
    "        # verify that f < n\n",
    "        assert(nb_faulty_parties < nb_total_parties)\n",
    "        assert(len(inputs) == nb_total_parties)\n",
    "        self.debug = debug\n",
    "\n",
    "        # creating several parties with the prescribed inputs\n",
    "        self.parties = [PartyType(i, nb_faulty_parties, nb_total_parties,\n",
    "                                  inputs[i-1]) for i in range(1, nb_total_parties + 1)]\n",
    "        self.debug_print(\"Inputs:\")\n",
    "        for i in range(1, nb_total_parties + 1):\n",
    "            self.debug_print(\"Party \" + str(i) + \" input: \" + inputs[i-1].name)\n",
    "\n",
    "        # randomly set some of the parties to be faulty\n",
    "        for p in random.sample(self.parties, nb_faulty_parties):\n",
    "            p.is_faulty = True\n",
    "        self.leader = random.sample(self.parties, 1)[0]\n",
    "\n",
    "    def run(self, nb_rounds) -> list:\n",
    "        # execute all nb_rounds rounds of the synchronous protocol, in order\n",
    "        for i in range(1, nb_rounds + 1):\n",
    "            self.debug_print(\"\\nStart of round \" + str(i) + \":\")\n",
    "\n",
    "            for p1 in self.parties:\n",
    "                for p2 in self.parties:\n",
    "                    # each party can send one message to all parties (including itself!)\n",
    "                    val = SynchronousNetwork.send_with_errors(i, p1, p2)\n",
    "                    self.debug_print(\"party with id \" + str(p1.id) + \" sending to party with id \"\n",
    "                                         + str(p2.id) + \" a message with content: \" + val.name)\n",
    "\n",
    "                    # recipient receives the message instantaneously\n",
    "                    p2.receive(i, p1.id, val)\n",
    "\n",
    "        # after all rounds are finished, retrieve each party's output\n",
    "        res = [p.output() for p in self.parties]\n",
    "\n",
    "        # the faulty party has no output\n",
    "        for i in range(len(self.parties)):\n",
    "            if(self.parties[i].is_faulty == True):\n",
    "                res[i] = Value.Null\n",
    "\n",
    "        self.debug_print(\"\\nOutputs are saved as the return value\")\n",
    "        return res\n",
    "\n",
    "    def send_with_errors(round_nb, sender, recv) -> Value:\n",
    "        # for honest parties, call the sender party and perform the action it wants\n",
    "        if (not sender.is_faulty):\n",
    "            return sender.send(round_nb, recv)\n",
    "        # in this homework, a faulty party chooses a value to send at random\n",
    "        # note that independent randomness is used for each message sent, in each round\n",
    "        else:\n",
    "            return SynchronousNetwork.randomValue()\n",
    "\n",
    "    def randomValue() -> Value:\n",
    "        r = random.random()\n",
    "        if(r < 0.4): return Value.Zero\n",
    "        if(r < 0.8): return Value.One\n",
    "        else:        return Value.Null\n",
    "\n",
    "    # pretty-printer that you can use to view the network communication\n",
    "    def debug_print(self, obj):\n",
    "        if self.debug:\n",
    "            print(obj)\n",
    "        else:\n",
    "            pass"
   ]
  },
  {
   "cell_type": "markdown",
   "metadata": {},
   "source": [
    "Some features about this code:\n",
    "\n",
    "- It provides two classes: a `Party` object that represents a single computer in a network, and a `SynchronousNetwork` that allows several `Party` objects to communicate.\n",
    "\n",
    "- Within each message communication, the sender can pick a `Value` from three options: `Value.Zero`, `Value.One`, or `Value.Null`. In words, the sender can choose any bit value (0 or 1), or it can send nothing.\n",
    "\n",
    "- The overall network contains `nb_total_parties` parties, of which a subset of `nb_faulty_parties` are faulty. Faulty parties behave chaotically: they send random messages and they never produce an output.\n",
    "\n",
    "- The network runs all of the parties (roughly) in parallel.\n",
    "\n",
    "- Importantly: you only have to write the code from the perspective of a *single* party $i$, and the network will handle the execution of all honest parties. Remember that malicious parties do not have to follow the rules!"
   ]
  },
  {
   "cell_type": "markdown",
   "metadata": {},
   "source": [
    "__An example.__ To give you an example of what we mean by \"writing code from the perspective of a single party,\" consider a 1-round protocol in which all odd-numbered parties send `Value.One` and the even-numbered parties send `Value.Zero`. Here is how we can write the code that explains how a single party behaves."
   ]
  },
  {
   "cell_type": "code",
   "execution_count": 11,
   "metadata": {},
   "outputs": [],
   "source": [
    "class ParityParty(Party):\n",
    "    def __init__(self, *args, **kwargs):  # has the same arguments as the base class\n",
    "        super().__init__(*args, **kwargs) # executes init from the base class\n",
    "\n",
    "    def send(self, round_number: int, destination_party: int) -> Value:\n",
    "        if(self.id % 2 == 1):\n",
    "            return Value.One\n",
    "        else:\n",
    "            return Value.Zero\n",
    "\n",
    "    def receive(self, round_number: int, sender_party: int, val: Value) -> None:\n",
    "        return\n",
    "    \n",
    "    def output(self):\n",
    "        # in this example we always return a value of 0, regardless of inputs or messages\n",
    "        return Value.Zero"
   ]
  },
  {
   "cell_type": "markdown",
   "metadata": {},
   "source": [
    "Now let's connect four of these parity parties together. The neat thing is that even though we wrote the protocol from the 'local' perspective of a single party, the `SynchronousNetwork` class will now create the 'global' view of all parties in the network.\n",
    "\n",
    "We will also give each party an input value, even though they don't use it in this simple protocol. Let's see what happens if we run this network, where one of the parties is faulty."
   ]
  },
  {
   "cell_type": "code",
   "execution_count": 12,
   "metadata": {},
   "outputs": [
    {
     "name": "stdout",
     "output_type": "stream",
     "text": [
      "Inputs:\n",
      "Party 1 input: One\n",
      "Party 2 input: Zero\n",
      "Party 3 input: One\n",
      "Party 4 input: Zero\n",
      "\n",
      "Start of round 1:\n",
      "party with id 1 sending to party with id 1 a message with content: One\n",
      "party with id 1 sending to party with id 2 a message with content: One\n",
      "party with id 1 sending to party with id 3 a message with content: One\n",
      "party with id 1 sending to party with id 4 a message with content: One\n",
      "party with id 2 sending to party with id 1 a message with content: Zero\n",
      "party with id 2 sending to party with id 2 a message with content: Zero\n",
      "party with id 2 sending to party with id 3 a message with content: Zero\n",
      "party with id 2 sending to party with id 4 a message with content: Zero\n",
      "party with id 3 sending to party with id 1 a message with content: One\n",
      "party with id 3 sending to party with id 2 a message with content: Zero\n",
      "party with id 3 sending to party with id 3 a message with content: Null\n",
      "party with id 3 sending to party with id 4 a message with content: One\n",
      "party with id 4 sending to party with id 1 a message with content: Zero\n",
      "party with id 4 sending to party with id 2 a message with content: Zero\n",
      "party with id 4 sending to party with id 3 a message with content: Zero\n",
      "party with id 4 sending to party with id 4 a message with content: Zero\n",
      "\n",
      "Outputs are saved as the return value\n",
      "[<Value.Zero: 0>, <Value.Zero: 0>, <Value.Null: -999>, <Value.Zero: 0>]\n"
     ]
    }
   ],
   "source": [
    "parity_inputs = [Value.One, Value.Zero, Value.One, Value.Zero]\n",
    "parityNetwork = SynchronousNetwork(ParityParty, 1, 4, parity_inputs, debug=True)\n",
    "result = parityNetwork.run(1) # the number 1 tells the network to run for one round\n",
    "print(result)"
   ]
  },
  {
   "cell_type": "markdown",
   "metadata": {},
   "source": [
    "As you can see, the first 3 parties followed the protocol. They sent a consistent value to each party in the system... including a message to themselves!\n",
    "\n",
    "But party 4 is faulty. It disregards the rules of the game: rather than sending a `Value.Zero` to everyone, it has sent `Value.One` to one party, `Value.Zero` to two parties, and `Value.Null` to one party. Also, the faulty party has no output -- more precisely, it always outputs `Value.Null`.\n",
    "\n",
    "Hopefully this gives you a flavor of how the `SynchronousNetwork` class connects the parties together. Now let's try building a real protocol in this way."
   ]
  },
  {
   "cell_type": "markdown",
   "metadata": {
    "deletable": false,
    "editable": false
   },
   "source": [
    "#### Questions\n",
    "\n",
    "**Question 3 (Construct the Gradecast protocol).** In the code block below, write Python code that executes one party's component of the Gradecast protocol."
   ]
  },
  {
   "cell_type": "code",
   "execution_count": 68,
   "metadata": {
    "tags": []
   },
   "outputs": [],
   "source": [
    "class GradecastParty(Party):\n",
    "    def __init__(self, *args, **kwargs):  # has the same arguments as the base class\n",
    "        super().__init__(*args, **kwargs) # executes init from the base class\n",
    "        # TODO: if you want, you can add more code to initialization\n",
    "        self.value = {\n",
    "            'round1' : {\n",
    "                'zeros' : 0,\n",
    "                'ones' : 0\n",
    "            },\n",
    "            'round2' : {\n",
    "                'zeros' : 0,\n",
    "                'ones' : 0\n",
    "            }\n",
    "        }\n",
    "\n",
    "        \n",
    "    def send(self, round_number: int, destination_party: int):\n",
    "        # TODO: complete this function\n",
    "        if round_number == 1:\n",
    "            return self.input\n",
    "        if round_number == 2:\n",
    "            if self.value['round1']['zeros'] >= self.n - self.f:\n",
    "                return Value.Zero\n",
    "            elif self.value['round1']['ones'] >= self.n - self.f:\n",
    "                return Value.One\n",
    "        return Value.Null \n",
    "\n",
    "    def receive(self, round_number: int, sender_party: int, val: Value):\n",
    "        # TODO: complete this function\n",
    "        if round_number == 1:\n",
    "            if val == 0: \n",
    "                self.value['round1']['zeros'] += 1\n",
    "            if val == 1: \n",
    "                self.value['round1']['ones'] += 1\n",
    "        elif round_number == 2:\n",
    "            if val == 0: \n",
    "                self.value['round2']['zeros'] += 1\n",
    "            if val == 1: \n",
    "                self.value['round2']['ones'] += 1\n",
    "        return \n",
    "    def output(self):\n",
    "        # TODO: complete this function\n",
    "        grade = 0\n",
    "        output = self.input\n",
    "\n",
    "        if self.value['round2']['zeros'] >= self.n - self.f:\n",
    "            grade = 2\n",
    "            output = Value.Zero\n",
    "        elif self.value['round2']['ones'] >= self.n - self.f:\n",
    "            grade = 2\n",
    "            output = Value.One\n",
    "        elif self.value['round2']['zeros'] >= self.f + 1:\n",
    "            grade = 1\n",
    "            output = Value.Zero\n",
    "        elif self.value['round2']['ones'] >= self.f + 1:\n",
    "            grade = 1\n",
    "            output = Value.One\n",
    "        return (output, grade)"
   ]
  },
  {
   "cell_type": "markdown",
   "metadata": {
    "deletable": false,
    "editable": false
   },
   "source": [
    "To help you test your `GradecastParty` class, we have provided below a code block that will execute a protocol connecting $n = 4$ Gradecast parties, of which $f = 1$ is malicious. We have turned `debug` mode on so you can observe the messages that each party sends during Gradecast.\n",
    "\n",
    "Execute this code, and do not move on to later tasks until you have convinced yourself that each party is acting consistent with the rules that were described in the lectures.\n",
    "\n",
    "(Note: each time you re-run the network, the results may change because `SynchronousNetwork` chooses a different party to be malicious.)"
   ]
  },
  {
   "cell_type": "code",
   "execution_count": 69,
   "metadata": {
    "deletable": false,
    "editable": false
   },
   "outputs": [
    {
     "name": "stdout",
     "output_type": "stream",
     "text": [
      "Inputs:\n",
      "Party 1 input: Zero\n",
      "Party 2 input: Zero\n",
      "Party 3 input: Zero\n",
      "Party 4 input: One\n",
      "\n",
      "Start of round 1:\n",
      "party with id 1 sending to party with id 1 a message with content: One\n",
      "party with id 1 sending to party with id 2 a message with content: Null\n",
      "party with id 1 sending to party with id 3 a message with content: One\n",
      "party with id 1 sending to party with id 4 a message with content: Zero\n",
      "party with id 2 sending to party with id 1 a message with content: Zero\n",
      "party with id 2 sending to party with id 2 a message with content: Zero\n",
      "party with id 2 sending to party with id 3 a message with content: Zero\n",
      "party with id 2 sending to party with id 4 a message with content: Zero\n",
      "party with id 3 sending to party with id 1 a message with content: Zero\n",
      "party with id 3 sending to party with id 2 a message with content: Zero\n",
      "party with id 3 sending to party with id 3 a message with content: Zero\n",
      "party with id 3 sending to party with id 4 a message with content: Zero\n",
      "party with id 4 sending to party with id 1 a message with content: One\n",
      "party with id 4 sending to party with id 2 a message with content: One\n",
      "party with id 4 sending to party with id 3 a message with content: One\n",
      "party with id 4 sending to party with id 4 a message with content: One\n",
      "\n",
      "Start of round 2:\n",
      "party with id 1 sending to party with id 1 a message with content: One\n",
      "party with id 1 sending to party with id 2 a message with content: One\n",
      "party with id 1 sending to party with id 3 a message with content: One\n",
      "party with id 1 sending to party with id 4 a message with content: One\n",
      "party with id 2 sending to party with id 1 a message with content: Null\n",
      "party with id 2 sending to party with id 2 a message with content: Null\n",
      "party with id 2 sending to party with id 3 a message with content: Null\n",
      "party with id 2 sending to party with id 4 a message with content: Null\n",
      "party with id 3 sending to party with id 1 a message with content: Null\n",
      "party with id 3 sending to party with id 2 a message with content: Null\n",
      "party with id 3 sending to party with id 3 a message with content: Null\n",
      "party with id 3 sending to party with id 4 a message with content: Null\n",
      "party with id 4 sending to party with id 1 a message with content: Zero\n",
      "party with id 4 sending to party with id 2 a message with content: Zero\n",
      "party with id 4 sending to party with id 3 a message with content: Zero\n",
      "party with id 4 sending to party with id 4 a message with content: Zero\n",
      "\n",
      "Outputs are saved as the return value\n",
      "[<Value.Null: -999>, (<Value.Zero: 0>, 0), (<Value.Zero: 0>, 0), (<Value.One: 1>, 0)]\n"
     ]
    }
   ],
   "source": [
    "skewed_zeros = [Value.Zero, Value.Zero, Value.Zero, Value.One]\n",
    "gradecastNetwork = SynchronousNetwork(GradecastParty, 1, 4, skewed_zeros, debug=True)\n",
    "result = gradecastNetwork.run(2)\n",
    "print(result)"
   ]
  },
  {
   "cell_type": "markdown",
   "metadata": {
    "deletable": false,
    "editable": false
   },
   "source": [
    "Once you are satisfied that your code works properly, you can run the tests below. There are two tests: one to check the validity property, and another to check the knowledge of agreement property. Each test performs many executions of the `Gradecast` protocol."
   ]
  },
  {
   "cell_type": "code",
   "execution_count": 70,
   "metadata": {
    "deletable": false,
    "editable": false
   },
   "outputs": [
    {
     "data": {
      "text/html": [
       "<p><strong><pre style='display: inline;'>q3</pre></strong> passed! 🍀</p>"
      ],
      "text/plain": [
       "q3 results: All test cases passed!"
      ]
     },
     "execution_count": 70,
     "metadata": {},
     "output_type": "execute_result"
    }
   ],
   "source": [
    "grader.check(\"q3\")"
   ]
  },
  {
   "cell_type": "markdown",
   "metadata": {
    "deletable": false,
    "editable": false
   },
   "source": [
    "**Question 4 (Construct the phase-king protocol).** In the code block below, write Python code that executes one party's component of the phase-king protocol. The first party (i.e., party 0) should act as the leader."
   ]
  },
  {
   "cell_type": "code",
   "execution_count": 84,
   "metadata": {
    "tags": []
   },
   "outputs": [],
   "source": [
    "class PhaseKingParty(Party):\n",
    "    def __init__(self, *args, **kwargs):\n",
    "        super().__init__(*args, **kwargs)\n",
    "        self.grade = 0\n",
    "        self.gradecast = GradecastParty(self.id, self.f, self.n, self.input)\n",
    "\n",
    "    def send(self, round_number: int, destination_party: int) -> Value:\n",
    "        round_number_in_phase = (round_number - 1) % 3 + 1\n",
    "\n",
    "        if round_number > 1:\n",
    "            if round_number_in_phase == 1:\n",
    "                self.input, self.grade = self.gradecast.output()\n",
    "\n",
    "        if round_number_in_phase == 1 and self.id == round_number:\n",
    "            return self.input\n",
    "        if round_number_in_phase == 2:\n",
    "            return self.input\n",
    "        elif round_number_in_phase == 3:\n",
    "            return self.gradecast.send(2, destination_party)\n",
    "        return Value.Null\n",
    "\n",
    "    def receive(self, round_number: int, sender_party: int, val: Value) -> None:\n",
    "        round_number_in_phase = (round_number - 1) % 3 + 1\n",
    "\n",
    "        if round_number_in_phase == 1 and self.grade < 2 and sender_party == round_number:\n",
    "            self.input = val\n",
    "\n",
    "        if round_number_in_phase == 2:\n",
    "            self.gradecast.receive(1, sender_party, val)\n",
    "\n",
    "        if round_number_in_phase == 3:\n",
    "            self.gradecast.receive(2, sender_party, val)\n",
    "\n",
    "    def output(self):\n",
    "        return self.input\n"
   ]
  },
  {
   "cell_type": "code",
   "execution_count": 85,
   "metadata": {
    "deletable": false,
    "editable": false
   },
   "outputs": [
    {
     "data": {
      "text/html": [
       "<p><strong><pre style='display: inline;'>q4</pre></strong> passed! 🚀</p>"
      ],
      "text/plain": [
       "q4 results: All test cases passed!"
      ]
     },
     "execution_count": 85,
     "metadata": {},
     "output_type": "execute_result"
    }
   ],
   "source": [
    "grader.check(\"q4\")"
   ]
  },
  {
   "cell_type": "markdown",
   "metadata": {},
   "source": [
    "### Collaboration Policy\n",
    "\n",
    "Congratulations on completing the homework! Before you submit the assignment: list all collaborators, sources, and AI tools in accordance with the collaboration policy. Doing so is to your advantage: this is your opportunity to document and explain any external information used and why you believe it adheres to the code of conduct and collaboration policy. If I discover an undocumented violation of the collaboration policy, then this will be considered academic misconduct.\n",
    "\n",
    "A. Write the names of all classmates you worked with, along with a short description of the work that you performed together."
   ]
  },
  {
   "cell_type": "markdown",
   "metadata": {},
   "source": [
    "**Your response:** "
   ]
  },
  {
   "cell_type": "markdown",
   "metadata": {},
   "source": [
    "B. List all written materials that you used, such as books or websites (besides the lecture notes and course textbooks). Provide links to any web-based resources, or citations to any physical works."
   ]
  },
  {
   "cell_type": "markdown",
   "metadata": {},
   "source": [
    "**Your response:** "
   ]
  },
  {
   "cell_type": "markdown",
   "metadata": {},
   "source": [
    "C. State all code that you used from other sources. In particular, if you used an AI tool, then you must include the entire exchange with the AI tool, as per the [CDS Generative AI Assistance Policy](https://www.bu.edu/cds-faculty/culture-community/gaia-policy/)."
   ]
  },
  {
   "cell_type": "markdown",
   "metadata": {},
   "source": [
    "**Your response:** "
   ]
  },
  {
   "cell_type": "markdown",
   "metadata": {
    "id": "-algFmYgThpr"
   },
   "source": [
    "### Sending to Gradescope\n",
    "\n",
    "After completing the assignment, submit only the `.ipynb` file to Gradescope. It takes a while for the auto grading system to check your work."
   ]
  }
 ],
 "metadata": {
  "colab": {
   "provenance": []
  },
  "kernelspec": {
   "display_name": ".venv",
   "language": "python",
   "name": "python3"
  },
  "language_info": {
   "codemirror_mode": {
    "name": "ipython",
    "version": 3
   },
   "file_extension": ".py",
   "mimetype": "text/x-python",
   "name": "python",
   "nbconvert_exporter": "python",
   "pygments_lexer": "ipython3",
   "version": "3.12.3"
  },
  "otter": {
   "assignment_name": "hw05"
  },
  "varInspector": {
   "cols": {
    "lenName": 16,
    "lenType": 16,
    "lenVar": 40
   },
   "kernels_config": {
    "python": {
     "delete_cmd_postfix": "",
     "delete_cmd_prefix": "del ",
     "library": "var_list.py",
     "varRefreshCmd": "print(var_dic_list())"
    },
    "r": {
     "delete_cmd_postfix": ") ",
     "delete_cmd_prefix": "rm(",
     "library": "var_list.r",
     "varRefreshCmd": "cat(var_dic_list()) "
    }
   },
   "types_to_exclude": [
    "module",
    "function",
    "builtin_function_or_method",
    "instance",
    "_Feature"
   ],
   "window_display": false
  }
 },
 "nbformat": 4,
 "nbformat_minor": 0
}
