{
 "cells": [
  {
   "cell_type": "markdown",
   "metadata": {
    "id": "L6vqYT5xThpc"
   },
   "source": [
    "# DS 653 -- Homework 1\n",
    "\n",
    "**Due:** Friday, January 31 at 10pm on [Gradescope](https://www.gradescope.com/courses/959425).\n",
    "\n",
    "_You must follow the Academic Code of Conduct and Collaboration Policy stated in the course syllabus at all times while working on this assignment._\n",
    "\n",
    "This assignment contains 10 questions worth a total of 24 points. You will earn:\n",
    "- 1 course learning credit for earning at least 10 points, or\n",
    "- 2 course learning credits for earning at least 20 points on this homework.\n",
    "\n",
    "To begin, please execute the code block below:"
   ]
  },
  {
   "cell_type": "code",
   "execution_count": 3,
   "metadata": {
    "id": "-wnlMZVtThpd",
    "outputId": "19142d18-33f5-47c6-c6d8-309ae3a7f6b2"
   },
   "outputs": [],
   "source": [
    "# Initialize otter-grader\n",
    "import otter\n",
    "grader = otter.Notebook()\n",
    "\n",
    "# Import libraries related to cryptography\n",
    "import Cryptodome\n",
    "from binascii import hexlify, unhexlify\n",
    "from hashlib import sha256\n",
    "\n",
    "\n",
    "# If this cell fails to execute, then use pip to install the following packages:\n",
    "# otter-grader\n",
    "# pycryptodomex"
   ]
  },
  {
   "cell_type": "markdown",
   "metadata": {},
   "source": [
    "### Reading Questions (2 points each)\n",
    "\n",
    "These multiple-choice questions are based on the week 1 and 2 reading assignments:\n",
    "\n",
    "- David Wong’s [Hash functions and security](https://freecontent.manning.com/hash-functions-and-security/)\n",
    "- [NBFMG, chapter 1](https://d28rh4a8wq0iu5.cloudfront.net/bitcointech/readings/princeton_bitcoin_book.pdf)"
   ]
  },
  {
   "cell_type": "markdown",
   "metadata": {
    "deletable": false,
    "editable": false
   },
   "source": [
    "**Question 1.** For the hash function `SHA-256`, does the number 256 refer to the number of bits in the input or the output?\n",
    "1. input\n",
    "2. output"
   ]
  },
  {
   "cell_type": "markdown",
   "metadata": {
    "deletable": false,
    "editable": false
   },
   "source": [
    "To answer this question, please uncomment out the correct response."
   ]
  },
  {
   "cell_type": "code",
   "execution_count": 8,
   "metadata": {
    "tags": []
   },
   "outputs": [],
   "source": [
    "def hw1_q1() -> int:\n",
    "    # return 1\n",
    "    # return 2\n",
    "    return 2"
   ]
  },
  {
   "cell_type": "code",
   "execution_count": 7,
   "metadata": {
    "deletable": false,
    "editable": false
   },
   "outputs": [
    {
     "ename": "ValueError",
     "evalue": "Tests directory does not exist and no notebook path provided",
     "output_type": "error",
     "traceback": [
      "\u001b[0;31m---------------------------------------------------------------------------\u001b[0m",
      "\u001b[0;31mValueError\u001b[0m                                Traceback (most recent call last)",
      "Cell \u001b[0;32mIn[7], line 1\u001b[0m\n\u001b[0;32m----> 1\u001b[0m \u001b[43mgrader\u001b[49m\u001b[38;5;241;43m.\u001b[39;49m\u001b[43mcheck\u001b[49m\u001b[43m(\u001b[49m\u001b[38;5;124;43m\"\u001b[39;49m\u001b[38;5;124;43mq1\u001b[39;49m\u001b[38;5;124;43m\"\u001b[39;49m\u001b[43m)\u001b[49m\n",
      "File \u001b[0;32m~/ds653/.venv/lib/python3.12/site-packages/otter/check/utils.py:242\u001b[0m, in \u001b[0;36mlogs_event.<locals>.event_logger\u001b[0;34m(wrapped, self, args, kwargs)\u001b[0m\n\u001b[1;32m    240\u001b[0m \u001b[38;5;28;01mexcept\u001b[39;00m \u001b[38;5;167;01mException\u001b[39;00m \u001b[38;5;28;01mas\u001b[39;00m e:\n\u001b[1;32m    241\u001b[0m     \u001b[38;5;28mself\u001b[39m\u001b[38;5;241m.\u001b[39m_log_event(event_type, success\u001b[38;5;241m=\u001b[39m\u001b[38;5;28;01mFalse\u001b[39;00m, error\u001b[38;5;241m=\u001b[39me)\n\u001b[0;32m--> 242\u001b[0m     \u001b[38;5;28;01mraise\u001b[39;00m e\n\u001b[1;32m    244\u001b[0m \u001b[38;5;28;01mif\u001b[39;00m ret \u001b[38;5;129;01mis\u001b[39;00m \u001b[38;5;28;01mNone\u001b[39;00m:\n\u001b[1;32m    245\u001b[0m     ret \u001b[38;5;241m=\u001b[39m LoggedEventReturnValue(\u001b[38;5;28;01mNone\u001b[39;00m)\n",
      "File \u001b[0;32m~/ds653/.venv/lib/python3.12/site-packages/otter/check/utils.py:238\u001b[0m, in \u001b[0;36mlogs_event.<locals>.event_logger\u001b[0;34m(wrapped, self, args, kwargs)\u001b[0m\n\u001b[1;32m    233\u001b[0m \u001b[38;5;250m\u001b[39m\u001b[38;5;124;03m\"\"\"\u001b[39;00m\n\u001b[1;32m    234\u001b[0m \u001b[38;5;124;03mRuns a method, catching any errors and logging the call. Returns the unwrapped return value\u001b[39;00m\n\u001b[1;32m    235\u001b[0m \u001b[38;5;124;03mof the wrapped function.\u001b[39;00m\n\u001b[1;32m    236\u001b[0m \u001b[38;5;124;03m\"\"\"\u001b[39;00m\n\u001b[1;32m    237\u001b[0m \u001b[38;5;28;01mtry\u001b[39;00m:\n\u001b[0;32m--> 238\u001b[0m     ret: Optional[LoggedEventReturnValue[T]] \u001b[38;5;241m=\u001b[39m \u001b[43mwrapped\u001b[49m\u001b[43m(\u001b[49m\u001b[38;5;241;43m*\u001b[39;49m\u001b[43margs\u001b[49m\u001b[43m,\u001b[49m\u001b[43m \u001b[49m\u001b[38;5;241;43m*\u001b[39;49m\u001b[38;5;241;43m*\u001b[39;49m\u001b[43mkwargs\u001b[49m\u001b[43m)\u001b[49m\n\u001b[1;32m    240\u001b[0m \u001b[38;5;28;01mexcept\u001b[39;00m \u001b[38;5;167;01mException\u001b[39;00m \u001b[38;5;28;01mas\u001b[39;00m e:\n\u001b[1;32m    241\u001b[0m     \u001b[38;5;28mself\u001b[39m\u001b[38;5;241m.\u001b[39m_log_event(event_type, success\u001b[38;5;241m=\u001b[39m\u001b[38;5;28;01mFalse\u001b[39;00m, error\u001b[38;5;241m=\u001b[39me)\n",
      "File \u001b[0;32m~/ds653/.venv/lib/python3.12/site-packages/otter/check/notebook.py:256\u001b[0m, in \u001b[0;36mNotebook.check\u001b[0;34m(self, question, global_env)\u001b[0m\n\u001b[1;32m    243\u001b[0m \u001b[38;5;250m\u001b[39m\u001b[38;5;124;03m\"\"\"\u001b[39;00m\n\u001b[1;32m    244\u001b[0m \u001b[38;5;124;03mRuns tests for a specific question against a global environment. If no global environment\u001b[39;00m\n\u001b[1;32m    245\u001b[0m \u001b[38;5;124;03mis provided, the test is run against the calling frame's environment.\u001b[39;00m\n\u001b[0;32m   (...)\u001b[0m\n\u001b[1;32m    253\u001b[0m \u001b[38;5;124;03m    ``otter.test_files.abstract_test.TestFile``: the grade for the question\u001b[39;00m\n\u001b[1;32m    254\u001b[0m \u001b[38;5;124;03m\"\"\"\u001b[39;00m\n\u001b[1;32m    255\u001b[0m \u001b[38;5;28mself\u001b[39m\u001b[38;5;241m.\u001b[39m_logger\u001b[38;5;241m.\u001b[39minfo(\u001b[38;5;124mf\u001b[39m\u001b[38;5;124m\"\u001b[39m\u001b[38;5;124mRunning check for question: \u001b[39m\u001b[38;5;132;01m{\u001b[39;00mquestion\u001b[38;5;132;01m}\u001b[39;00m\u001b[38;5;124m\"\u001b[39m)\n\u001b[0;32m--> 256\u001b[0m test_path, test_name \u001b[38;5;241m=\u001b[39m \u001b[43mresolve_test_info\u001b[49m\u001b[43m(\u001b[49m\n\u001b[1;32m    257\u001b[0m \u001b[43m    \u001b[49m\u001b[38;5;28;43mself\u001b[39;49m\u001b[38;5;241;43m.\u001b[39;49m\u001b[43m_tests_dir\u001b[49m\u001b[43m,\u001b[49m\n\u001b[1;32m    258\u001b[0m \u001b[43m    \u001b[49m\u001b[38;5;28;43mself\u001b[39;49m\u001b[38;5;241;43m.\u001b[39;49m\u001b[43m_notebook\u001b[49m\u001b[43m,\u001b[49m\n\u001b[1;32m    259\u001b[0m \u001b[43m    \u001b[49m\u001b[38;5;28;43mself\u001b[39;49m\u001b[38;5;241;43m.\u001b[39;49m\u001b[43m_tests_url_prefix\u001b[49m\u001b[43m,\u001b[49m\n\u001b[1;32m    260\u001b[0m \u001b[43m    \u001b[49m\u001b[43mquestion\u001b[49m\u001b[43m,\u001b[49m\n\u001b[1;32m    261\u001b[0m \u001b[43m\u001b[49m\u001b[43m)\u001b[49m\n\u001b[1;32m    263\u001b[0m \u001b[38;5;28mself\u001b[39m\u001b[38;5;241m.\u001b[39m_logger\u001b[38;5;241m.\u001b[39mdebug(\u001b[38;5;124mf\u001b[39m\u001b[38;5;124m\"\u001b[39m\u001b[38;5;124mResolved test path: \u001b[39m\u001b[38;5;132;01m{\u001b[39;00mtest_path\u001b[38;5;132;01m}\u001b[39;00m\u001b[38;5;124m\"\u001b[39m)\n\u001b[1;32m    264\u001b[0m \u001b[38;5;28mself\u001b[39m\u001b[38;5;241m.\u001b[39m_logger\u001b[38;5;241m.\u001b[39mdebug(\u001b[38;5;124mf\u001b[39m\u001b[38;5;124m\"\u001b[39m\u001b[38;5;124mResolved test name: \u001b[39m\u001b[38;5;132;01m{\u001b[39;00mtest_name\u001b[38;5;132;01m}\u001b[39;00m\u001b[38;5;124m\"\u001b[39m)\n",
      "File \u001b[0;32m~/ds653/.venv/lib/python3.12/site-packages/otter/check/utils.py:351\u001b[0m, in \u001b[0;36mresolve_test_info\u001b[0;34m(tests_dir, nb_path, tests_url_prefix, question)\u001b[0m\n\u001b[1;32m    349\u001b[0m \u001b[38;5;28;01melse\u001b[39;00m:\n\u001b[1;32m    350\u001b[0m     \u001b[38;5;28;01mif\u001b[39;00m nb_path \u001b[38;5;129;01mis\u001b[39;00m \u001b[38;5;28;01mNone\u001b[39;00m:\n\u001b[0;32m--> 351\u001b[0m         \u001b[38;5;28;01mraise\u001b[39;00m \u001b[38;5;167;01mValueError\u001b[39;00m(\u001b[38;5;124m\"\u001b[39m\u001b[38;5;124mTests directory does not exist and no notebook path provided\u001b[39m\u001b[38;5;124m\"\u001b[39m)\n\u001b[1;32m    353\u001b[0m     test_path \u001b[38;5;241m=\u001b[39m nb_path\n\u001b[1;32m    354\u001b[0m     test_name \u001b[38;5;241m=\u001b[39m question\n",
      "\u001b[0;31mValueError\u001b[0m: Tests directory does not exist and no notebook path provided"
     ]
    }
   ],
   "source": [
    "grader.check(\"q1\")"
   ]
  },
  {
   "cell_type": "markdown",
   "metadata": {},
   "source": [
    "**Question 2.** Which security property of cryptographic hash functions ensures that no one can reverse the hash function?\n",
    "\n",
    "1. pre-image resistance\n",
    "2. second pre-image resistance\n",
    "3. collision resistance\n",
    "4. random oracle"
   ]
  },
  {
   "cell_type": "code",
   "execution_count": 9,
   "metadata": {
    "tags": []
   },
   "outputs": [],
   "source": [
    "def hw1_q2() -> int:\n",
    "    # return 1\n",
    "    # return 2\n",
    "    # return 3\n",
    "    # return 4\n",
    "    return 1"
   ]
  },
  {
   "cell_type": "code",
   "execution_count": 10,
   "metadata": {
    "deletable": false,
    "editable": false
   },
   "outputs": [
    {
     "ename": "ValueError",
     "evalue": "Tests directory does not exist and no notebook path provided",
     "output_type": "error",
     "traceback": [
      "\u001b[0;31m---------------------------------------------------------------------------\u001b[0m",
      "\u001b[0;31mValueError\u001b[0m                                Traceback (most recent call last)",
      "Cell \u001b[0;32mIn[10], line 1\u001b[0m\n\u001b[0;32m----> 1\u001b[0m \u001b[43mgrader\u001b[49m\u001b[38;5;241;43m.\u001b[39;49m\u001b[43mcheck\u001b[49m\u001b[43m(\u001b[49m\u001b[38;5;124;43m\"\u001b[39;49m\u001b[38;5;124;43mq2\u001b[39;49m\u001b[38;5;124;43m\"\u001b[39;49m\u001b[43m)\u001b[49m\n",
      "File \u001b[0;32m~/ds653/.venv/lib/python3.12/site-packages/otter/check/utils.py:242\u001b[0m, in \u001b[0;36mlogs_event.<locals>.event_logger\u001b[0;34m(wrapped, self, args, kwargs)\u001b[0m\n\u001b[1;32m    240\u001b[0m \u001b[38;5;28;01mexcept\u001b[39;00m \u001b[38;5;167;01mException\u001b[39;00m \u001b[38;5;28;01mas\u001b[39;00m e:\n\u001b[1;32m    241\u001b[0m     \u001b[38;5;28mself\u001b[39m\u001b[38;5;241m.\u001b[39m_log_event(event_type, success\u001b[38;5;241m=\u001b[39m\u001b[38;5;28;01mFalse\u001b[39;00m, error\u001b[38;5;241m=\u001b[39me)\n\u001b[0;32m--> 242\u001b[0m     \u001b[38;5;28;01mraise\u001b[39;00m e\n\u001b[1;32m    244\u001b[0m \u001b[38;5;28;01mif\u001b[39;00m ret \u001b[38;5;129;01mis\u001b[39;00m \u001b[38;5;28;01mNone\u001b[39;00m:\n\u001b[1;32m    245\u001b[0m     ret \u001b[38;5;241m=\u001b[39m LoggedEventReturnValue(\u001b[38;5;28;01mNone\u001b[39;00m)\n",
      "File \u001b[0;32m~/ds653/.venv/lib/python3.12/site-packages/otter/check/utils.py:238\u001b[0m, in \u001b[0;36mlogs_event.<locals>.event_logger\u001b[0;34m(wrapped, self, args, kwargs)\u001b[0m\n\u001b[1;32m    233\u001b[0m \u001b[38;5;250m\u001b[39m\u001b[38;5;124;03m\"\"\"\u001b[39;00m\n\u001b[1;32m    234\u001b[0m \u001b[38;5;124;03mRuns a method, catching any errors and logging the call. Returns the unwrapped return value\u001b[39;00m\n\u001b[1;32m    235\u001b[0m \u001b[38;5;124;03mof the wrapped function.\u001b[39;00m\n\u001b[1;32m    236\u001b[0m \u001b[38;5;124;03m\"\"\"\u001b[39;00m\n\u001b[1;32m    237\u001b[0m \u001b[38;5;28;01mtry\u001b[39;00m:\n\u001b[0;32m--> 238\u001b[0m     ret: Optional[LoggedEventReturnValue[T]] \u001b[38;5;241m=\u001b[39m \u001b[43mwrapped\u001b[49m\u001b[43m(\u001b[49m\u001b[38;5;241;43m*\u001b[39;49m\u001b[43margs\u001b[49m\u001b[43m,\u001b[49m\u001b[43m \u001b[49m\u001b[38;5;241;43m*\u001b[39;49m\u001b[38;5;241;43m*\u001b[39;49m\u001b[43mkwargs\u001b[49m\u001b[43m)\u001b[49m\n\u001b[1;32m    240\u001b[0m \u001b[38;5;28;01mexcept\u001b[39;00m \u001b[38;5;167;01mException\u001b[39;00m \u001b[38;5;28;01mas\u001b[39;00m e:\n\u001b[1;32m    241\u001b[0m     \u001b[38;5;28mself\u001b[39m\u001b[38;5;241m.\u001b[39m_log_event(event_type, success\u001b[38;5;241m=\u001b[39m\u001b[38;5;28;01mFalse\u001b[39;00m, error\u001b[38;5;241m=\u001b[39me)\n",
      "File \u001b[0;32m~/ds653/.venv/lib/python3.12/site-packages/otter/check/notebook.py:256\u001b[0m, in \u001b[0;36mNotebook.check\u001b[0;34m(self, question, global_env)\u001b[0m\n\u001b[1;32m    243\u001b[0m \u001b[38;5;250m\u001b[39m\u001b[38;5;124;03m\"\"\"\u001b[39;00m\n\u001b[1;32m    244\u001b[0m \u001b[38;5;124;03mRuns tests for a specific question against a global environment. If no global environment\u001b[39;00m\n\u001b[1;32m    245\u001b[0m \u001b[38;5;124;03mis provided, the test is run against the calling frame's environment.\u001b[39;00m\n\u001b[0;32m   (...)\u001b[0m\n\u001b[1;32m    253\u001b[0m \u001b[38;5;124;03m    ``otter.test_files.abstract_test.TestFile``: the grade for the question\u001b[39;00m\n\u001b[1;32m    254\u001b[0m \u001b[38;5;124;03m\"\"\"\u001b[39;00m\n\u001b[1;32m    255\u001b[0m \u001b[38;5;28mself\u001b[39m\u001b[38;5;241m.\u001b[39m_logger\u001b[38;5;241m.\u001b[39minfo(\u001b[38;5;124mf\u001b[39m\u001b[38;5;124m\"\u001b[39m\u001b[38;5;124mRunning check for question: \u001b[39m\u001b[38;5;132;01m{\u001b[39;00mquestion\u001b[38;5;132;01m}\u001b[39;00m\u001b[38;5;124m\"\u001b[39m)\n\u001b[0;32m--> 256\u001b[0m test_path, test_name \u001b[38;5;241m=\u001b[39m \u001b[43mresolve_test_info\u001b[49m\u001b[43m(\u001b[49m\n\u001b[1;32m    257\u001b[0m \u001b[43m    \u001b[49m\u001b[38;5;28;43mself\u001b[39;49m\u001b[38;5;241;43m.\u001b[39;49m\u001b[43m_tests_dir\u001b[49m\u001b[43m,\u001b[49m\n\u001b[1;32m    258\u001b[0m \u001b[43m    \u001b[49m\u001b[38;5;28;43mself\u001b[39;49m\u001b[38;5;241;43m.\u001b[39;49m\u001b[43m_notebook\u001b[49m\u001b[43m,\u001b[49m\n\u001b[1;32m    259\u001b[0m \u001b[43m    \u001b[49m\u001b[38;5;28;43mself\u001b[39;49m\u001b[38;5;241;43m.\u001b[39;49m\u001b[43m_tests_url_prefix\u001b[49m\u001b[43m,\u001b[49m\n\u001b[1;32m    260\u001b[0m \u001b[43m    \u001b[49m\u001b[43mquestion\u001b[49m\u001b[43m,\u001b[49m\n\u001b[1;32m    261\u001b[0m \u001b[43m\u001b[49m\u001b[43m)\u001b[49m\n\u001b[1;32m    263\u001b[0m \u001b[38;5;28mself\u001b[39m\u001b[38;5;241m.\u001b[39m_logger\u001b[38;5;241m.\u001b[39mdebug(\u001b[38;5;124mf\u001b[39m\u001b[38;5;124m\"\u001b[39m\u001b[38;5;124mResolved test path: \u001b[39m\u001b[38;5;132;01m{\u001b[39;00mtest_path\u001b[38;5;132;01m}\u001b[39;00m\u001b[38;5;124m\"\u001b[39m)\n\u001b[1;32m    264\u001b[0m \u001b[38;5;28mself\u001b[39m\u001b[38;5;241m.\u001b[39m_logger\u001b[38;5;241m.\u001b[39mdebug(\u001b[38;5;124mf\u001b[39m\u001b[38;5;124m\"\u001b[39m\u001b[38;5;124mResolved test name: \u001b[39m\u001b[38;5;132;01m{\u001b[39;00mtest_name\u001b[38;5;132;01m}\u001b[39;00m\u001b[38;5;124m\"\u001b[39m)\n",
      "File \u001b[0;32m~/ds653/.venv/lib/python3.12/site-packages/otter/check/utils.py:351\u001b[0m, in \u001b[0;36mresolve_test_info\u001b[0;34m(tests_dir, nb_path, tests_url_prefix, question)\u001b[0m\n\u001b[1;32m    349\u001b[0m \u001b[38;5;28;01melse\u001b[39;00m:\n\u001b[1;32m    350\u001b[0m     \u001b[38;5;28;01mif\u001b[39;00m nb_path \u001b[38;5;129;01mis\u001b[39;00m \u001b[38;5;28;01mNone\u001b[39;00m:\n\u001b[0;32m--> 351\u001b[0m         \u001b[38;5;28;01mraise\u001b[39;00m \u001b[38;5;167;01mValueError\u001b[39;00m(\u001b[38;5;124m\"\u001b[39m\u001b[38;5;124mTests directory does not exist and no notebook path provided\u001b[39m\u001b[38;5;124m\"\u001b[39m)\n\u001b[1;32m    353\u001b[0m     test_path \u001b[38;5;241m=\u001b[39m nb_path\n\u001b[1;32m    354\u001b[0m     test_name \u001b[38;5;241m=\u001b[39m question\n",
      "\u001b[0;31mValueError\u001b[0m: Tests directory does not exist and no notebook path provided"
     ]
    }
   ],
   "source": [
    "grader.check(\"q2\")"
   ]
  },
  {
   "cell_type": "markdown",
   "metadata": {
    "deletable": false,
    "editable": false
   },
   "source": [
    "**Question 3.** A cryptographic hash function can be used to construct a message commitment scheme. Which security property of the hash function prevents the committer from revealing a different message (after the commitment has been sent to the receiver)?\n",
    "\n",
    "1. pre-image resistance\n",
    "2. second pre-image resistance\n",
    "3. collision resistance\n",
    "4. random oracle"
   ]
  },
  {
   "cell_type": "code",
   "execution_count": 11,
   "metadata": {
    "tags": []
   },
   "outputs": [],
   "source": [
    "def hw1_q3() -> int:\n",
    "    # return 1\n",
    "    # return 2\n",
    "    # return 3\n",
    "    # return 4\n",
    "    return 3"
   ]
  },
  {
   "cell_type": "code",
   "execution_count": 12,
   "metadata": {
    "deletable": false,
    "editable": false
   },
   "outputs": [
    {
     "ename": "ValueError",
     "evalue": "Tests directory does not exist and no notebook path provided",
     "output_type": "error",
     "traceback": [
      "\u001b[0;31m---------------------------------------------------------------------------\u001b[0m",
      "\u001b[0;31mValueError\u001b[0m                                Traceback (most recent call last)",
      "Cell \u001b[0;32mIn[12], line 1\u001b[0m\n\u001b[0;32m----> 1\u001b[0m \u001b[43mgrader\u001b[49m\u001b[38;5;241;43m.\u001b[39;49m\u001b[43mcheck\u001b[49m\u001b[43m(\u001b[49m\u001b[38;5;124;43m\"\u001b[39;49m\u001b[38;5;124;43mq3\u001b[39;49m\u001b[38;5;124;43m\"\u001b[39;49m\u001b[43m)\u001b[49m\n",
      "File \u001b[0;32m~/ds653/.venv/lib/python3.12/site-packages/otter/check/utils.py:242\u001b[0m, in \u001b[0;36mlogs_event.<locals>.event_logger\u001b[0;34m(wrapped, self, args, kwargs)\u001b[0m\n\u001b[1;32m    240\u001b[0m \u001b[38;5;28;01mexcept\u001b[39;00m \u001b[38;5;167;01mException\u001b[39;00m \u001b[38;5;28;01mas\u001b[39;00m e:\n\u001b[1;32m    241\u001b[0m     \u001b[38;5;28mself\u001b[39m\u001b[38;5;241m.\u001b[39m_log_event(event_type, success\u001b[38;5;241m=\u001b[39m\u001b[38;5;28;01mFalse\u001b[39;00m, error\u001b[38;5;241m=\u001b[39me)\n\u001b[0;32m--> 242\u001b[0m     \u001b[38;5;28;01mraise\u001b[39;00m e\n\u001b[1;32m    244\u001b[0m \u001b[38;5;28;01mif\u001b[39;00m ret \u001b[38;5;129;01mis\u001b[39;00m \u001b[38;5;28;01mNone\u001b[39;00m:\n\u001b[1;32m    245\u001b[0m     ret \u001b[38;5;241m=\u001b[39m LoggedEventReturnValue(\u001b[38;5;28;01mNone\u001b[39;00m)\n",
      "File \u001b[0;32m~/ds653/.venv/lib/python3.12/site-packages/otter/check/utils.py:238\u001b[0m, in \u001b[0;36mlogs_event.<locals>.event_logger\u001b[0;34m(wrapped, self, args, kwargs)\u001b[0m\n\u001b[1;32m    233\u001b[0m \u001b[38;5;250m\u001b[39m\u001b[38;5;124;03m\"\"\"\u001b[39;00m\n\u001b[1;32m    234\u001b[0m \u001b[38;5;124;03mRuns a method, catching any errors and logging the call. Returns the unwrapped return value\u001b[39;00m\n\u001b[1;32m    235\u001b[0m \u001b[38;5;124;03mof the wrapped function.\u001b[39;00m\n\u001b[1;32m    236\u001b[0m \u001b[38;5;124;03m\"\"\"\u001b[39;00m\n\u001b[1;32m    237\u001b[0m \u001b[38;5;28;01mtry\u001b[39;00m:\n\u001b[0;32m--> 238\u001b[0m     ret: Optional[LoggedEventReturnValue[T]] \u001b[38;5;241m=\u001b[39m \u001b[43mwrapped\u001b[49m\u001b[43m(\u001b[49m\u001b[38;5;241;43m*\u001b[39;49m\u001b[43margs\u001b[49m\u001b[43m,\u001b[49m\u001b[43m \u001b[49m\u001b[38;5;241;43m*\u001b[39;49m\u001b[38;5;241;43m*\u001b[39;49m\u001b[43mkwargs\u001b[49m\u001b[43m)\u001b[49m\n\u001b[1;32m    240\u001b[0m \u001b[38;5;28;01mexcept\u001b[39;00m \u001b[38;5;167;01mException\u001b[39;00m \u001b[38;5;28;01mas\u001b[39;00m e:\n\u001b[1;32m    241\u001b[0m     \u001b[38;5;28mself\u001b[39m\u001b[38;5;241m.\u001b[39m_log_event(event_type, success\u001b[38;5;241m=\u001b[39m\u001b[38;5;28;01mFalse\u001b[39;00m, error\u001b[38;5;241m=\u001b[39me)\n",
      "File \u001b[0;32m~/ds653/.venv/lib/python3.12/site-packages/otter/check/notebook.py:256\u001b[0m, in \u001b[0;36mNotebook.check\u001b[0;34m(self, question, global_env)\u001b[0m\n\u001b[1;32m    243\u001b[0m \u001b[38;5;250m\u001b[39m\u001b[38;5;124;03m\"\"\"\u001b[39;00m\n\u001b[1;32m    244\u001b[0m \u001b[38;5;124;03mRuns tests for a specific question against a global environment. If no global environment\u001b[39;00m\n\u001b[1;32m    245\u001b[0m \u001b[38;5;124;03mis provided, the test is run against the calling frame's environment.\u001b[39;00m\n\u001b[0;32m   (...)\u001b[0m\n\u001b[1;32m    253\u001b[0m \u001b[38;5;124;03m    ``otter.test_files.abstract_test.TestFile``: the grade for the question\u001b[39;00m\n\u001b[1;32m    254\u001b[0m \u001b[38;5;124;03m\"\"\"\u001b[39;00m\n\u001b[1;32m    255\u001b[0m \u001b[38;5;28mself\u001b[39m\u001b[38;5;241m.\u001b[39m_logger\u001b[38;5;241m.\u001b[39minfo(\u001b[38;5;124mf\u001b[39m\u001b[38;5;124m\"\u001b[39m\u001b[38;5;124mRunning check for question: \u001b[39m\u001b[38;5;132;01m{\u001b[39;00mquestion\u001b[38;5;132;01m}\u001b[39;00m\u001b[38;5;124m\"\u001b[39m)\n\u001b[0;32m--> 256\u001b[0m test_path, test_name \u001b[38;5;241m=\u001b[39m \u001b[43mresolve_test_info\u001b[49m\u001b[43m(\u001b[49m\n\u001b[1;32m    257\u001b[0m \u001b[43m    \u001b[49m\u001b[38;5;28;43mself\u001b[39;49m\u001b[38;5;241;43m.\u001b[39;49m\u001b[43m_tests_dir\u001b[49m\u001b[43m,\u001b[49m\n\u001b[1;32m    258\u001b[0m \u001b[43m    \u001b[49m\u001b[38;5;28;43mself\u001b[39;49m\u001b[38;5;241;43m.\u001b[39;49m\u001b[43m_notebook\u001b[49m\u001b[43m,\u001b[49m\n\u001b[1;32m    259\u001b[0m \u001b[43m    \u001b[49m\u001b[38;5;28;43mself\u001b[39;49m\u001b[38;5;241;43m.\u001b[39;49m\u001b[43m_tests_url_prefix\u001b[49m\u001b[43m,\u001b[49m\n\u001b[1;32m    260\u001b[0m \u001b[43m    \u001b[49m\u001b[43mquestion\u001b[49m\u001b[43m,\u001b[49m\n\u001b[1;32m    261\u001b[0m \u001b[43m\u001b[49m\u001b[43m)\u001b[49m\n\u001b[1;32m    263\u001b[0m \u001b[38;5;28mself\u001b[39m\u001b[38;5;241m.\u001b[39m_logger\u001b[38;5;241m.\u001b[39mdebug(\u001b[38;5;124mf\u001b[39m\u001b[38;5;124m\"\u001b[39m\u001b[38;5;124mResolved test path: \u001b[39m\u001b[38;5;132;01m{\u001b[39;00mtest_path\u001b[38;5;132;01m}\u001b[39;00m\u001b[38;5;124m\"\u001b[39m)\n\u001b[1;32m    264\u001b[0m \u001b[38;5;28mself\u001b[39m\u001b[38;5;241m.\u001b[39m_logger\u001b[38;5;241m.\u001b[39mdebug(\u001b[38;5;124mf\u001b[39m\u001b[38;5;124m\"\u001b[39m\u001b[38;5;124mResolved test name: \u001b[39m\u001b[38;5;132;01m{\u001b[39;00mtest_name\u001b[38;5;132;01m}\u001b[39;00m\u001b[38;5;124m\"\u001b[39m)\n",
      "File \u001b[0;32m~/ds653/.venv/lib/python3.12/site-packages/otter/check/utils.py:351\u001b[0m, in \u001b[0;36mresolve_test_info\u001b[0;34m(tests_dir, nb_path, tests_url_prefix, question)\u001b[0m\n\u001b[1;32m    349\u001b[0m \u001b[38;5;28;01melse\u001b[39;00m:\n\u001b[1;32m    350\u001b[0m     \u001b[38;5;28;01mif\u001b[39;00m nb_path \u001b[38;5;129;01mis\u001b[39;00m \u001b[38;5;28;01mNone\u001b[39;00m:\n\u001b[0;32m--> 351\u001b[0m         \u001b[38;5;28;01mraise\u001b[39;00m \u001b[38;5;167;01mValueError\u001b[39;00m(\u001b[38;5;124m\"\u001b[39m\u001b[38;5;124mTests directory does not exist and no notebook path provided\u001b[39m\u001b[38;5;124m\"\u001b[39m)\n\u001b[1;32m    353\u001b[0m     test_path \u001b[38;5;241m=\u001b[39m nb_path\n\u001b[1;32m    354\u001b[0m     test_name \u001b[38;5;241m=\u001b[39m question\n",
      "\u001b[0;31mValueError\u001b[0m: Tests directory does not exist and no notebook path provided"
     ]
    }
   ],
   "source": [
    "grader.check(\"q3\")"
   ]
  },
  {
   "cell_type": "markdown",
   "metadata": {
    "deletable": false,
    "editable": false
   },
   "source": [
    "**Question 4.** A digital signature scheme contains three algorithms: key generation, sign, and verify. Which is the only algorithm that requires the *secret key* in order to execute?\n",
    "\n",
    "1. Key generation\n",
    "2. Sign\n",
    "3. Verify"
   ]
  },
  {
   "cell_type": "code",
   "execution_count": null,
   "metadata": {
    "tags": []
   },
   "outputs": [],
   "source": [
    "def hw1_q4() -> int:\n",
    "    # return 1\n",
    "    # return 2\n",
    "    # return 3\n",
    "    return 2"
   ]
  },
  {
   "cell_type": "code",
   "execution_count": null,
   "metadata": {
    "deletable": false,
    "editable": false
   },
   "outputs": [],
   "source": [
    "grader.check(\"q4\")"
   ]
  },
  {
   "cell_type": "markdown",
   "metadata": {
    "deletable": false,
    "editable": false
   },
   "source": [
    "**Question 5.** A digital signature scheme contains three algorithms: key generation, sign, and verify. Which is the only algorithm that is guaranteed to be *deterministic* -- that is, if you run it multiple times with the same input, then you are guaranteed to receive the same response each time?\n",
    "\n",
    "1. Key generation\n",
    "2. Sign\n",
    "3. Verify"
   ]
  },
  {
   "cell_type": "code",
   "execution_count": 13,
   "metadata": {
    "tags": []
   },
   "outputs": [],
   "source": [
    "def hw1_q5() -> int:\n",
    "    # return 1\n",
    "    # return 2\n",
    "    # return 3\n",
    "    return 3"
   ]
  },
  {
   "cell_type": "code",
   "execution_count": null,
   "metadata": {
    "deletable": false,
    "editable": false
   },
   "outputs": [],
   "source": [
    "grader.check(\"q5\")"
   ]
  },
  {
   "cell_type": "markdown",
   "metadata": {
    "deletable": false,
    "editable": false
   },
   "source": [
    "**Question 6.** Suppose that Alice and Bob use the ScroogeCoin system described in Section 1.5 of [NBFMG](https://d28rh4a8wq0iu5.cloudfront.net/bitcointech/readings/princeton_bitcoin_book.pdf). Suppose that Alice would like to transfer 1 of her ScroogeCoins to Bob. To accomplish this task, which person needs to create a digital signature?\n",
    "\n",
    "1. Alice\n",
    "2. Bob\n",
    "3. Scrooge"
   ]
  },
  {
   "cell_type": "code",
   "execution_count": 14,
   "metadata": {
    "tags": []
   },
   "outputs": [],
   "source": [
    "def hw1_q6() -> int:\n",
    "    # return 1\n",
    "    # return 2\n",
    "    # return 3\n",
    "    return 1"
   ]
  },
  {
   "cell_type": "code",
   "execution_count": null,
   "metadata": {
    "deletable": false,
    "editable": false
   },
   "outputs": [],
   "source": [
    "grader.check(\"q6\")"
   ]
  },
  {
   "cell_type": "markdown",
   "metadata": {},
   "source": [
    "### Programming Questions (3 points each)\n",
    "\n",
    "These questions require you to write code in `Python`. Many of this week's questions involve type conversions between int, string, and bytestring. The final question involves hash functions."
   ]
  },
  {
   "cell_type": "markdown",
   "metadata": {
    "deletable": false,
    "editable": false,
    "id": "gcR4AF0mThpf"
   },
   "source": [
    "**Question 7 (Integer to Hex).** Write a function `int_byte_to_hex` that receives a Python integer in the range 0 to 255, and returns a Python string corresponding to the same number in base 16 / hexadecimal format.\n",
    "\n",
    "As background: remember that a _byte_ of information contains 8 bits, so it can be used to represent a number between 0 and 255 (inclusive). In crypto, we often convert between different representations of a byte of information. One common representation that we will use often in this class is hexadecimal format, in which each symbol (0-9 or a-f) corresponds to a number between 0 and 15, and a byte can be represented with exactly two symbols."
   ]
  },
  {
   "cell_type": "code",
   "execution_count": 28,
   "metadata": {
    "id": "4ktlLSQ3Thpg",
    "tags": []
   },
   "outputs": [],
   "source": [
    "def int_byte_to_hex(the_input : int) -> str:\n",
    "    \"\"\" Read a single, decimal byte from the user and return a string of its\n",
    "    hexidecimal value. This string should use lowercase and should always be\n",
    "    exactly two characters long. Make sure you pad the beginning with a 0 if\n",
    "    necessary, and make sure the string does NOT start with '0x'.\n",
    "\n",
    "    Example test cases:\n",
    "\n",
    "        255 -> \"ff\"\n",
    "        10 -> \"0a\"\n",
    "        65 -> \"41\"\n",
    "        161 -> \"a1\"\n",
    "    \"\"\"\n",
    "    assert(type(the_input) == int)               # the input is an integer\n",
    "    assert(the_input >= 0 and the_input <= 255)  # between 0 and 255, inclusive\n",
    "    return hex(the_input)[2:].zfill(2)\n",
    "\n",
    "    # todo: implement the rest of this function"
   ]
  },
  {
   "cell_type": "markdown",
   "metadata": {
    "deletable": false,
    "editable": false,
    "id": "ffYXZRdkThpg"
   },
   "source": [
    "As you will see throughout this course, crypto code can be incredibly precise and finicky. For this reason: most programming questions will be accommpanied by **test cases**, which are example inputs and outputs to a function that allow you to check whether your code is working properly.\n",
    "\n",
    "In this question, we provide test cases in human-readable format in the comment above. We also provide unit tests for you to execute with `otter-grader`."
   ]
  },
  {
   "cell_type": "code",
   "execution_count": 16,
   "metadata": {
    "deletable": false,
    "editable": false
   },
   "outputs": [
    {
     "ename": "ValueError",
     "evalue": "Tests directory does not exist and no notebook path provided",
     "output_type": "error",
     "traceback": [
      "\u001b[0;31m---------------------------------------------------------------------------\u001b[0m",
      "\u001b[0;31mValueError\u001b[0m                                Traceback (most recent call last)",
      "Cell \u001b[0;32mIn[16], line 1\u001b[0m\n\u001b[0;32m----> 1\u001b[0m \u001b[43mgrader\u001b[49m\u001b[38;5;241;43m.\u001b[39;49m\u001b[43mcheck\u001b[49m\u001b[43m(\u001b[49m\u001b[38;5;124;43m\"\u001b[39;49m\u001b[38;5;124;43mq7\u001b[39;49m\u001b[38;5;124;43m\"\u001b[39;49m\u001b[43m)\u001b[49m\n",
      "File \u001b[0;32m~/ds653/.venv/lib/python3.12/site-packages/otter/check/utils.py:242\u001b[0m, in \u001b[0;36mlogs_event.<locals>.event_logger\u001b[0;34m(wrapped, self, args, kwargs)\u001b[0m\n\u001b[1;32m    240\u001b[0m \u001b[38;5;28;01mexcept\u001b[39;00m \u001b[38;5;167;01mException\u001b[39;00m \u001b[38;5;28;01mas\u001b[39;00m e:\n\u001b[1;32m    241\u001b[0m     \u001b[38;5;28mself\u001b[39m\u001b[38;5;241m.\u001b[39m_log_event(event_type, success\u001b[38;5;241m=\u001b[39m\u001b[38;5;28;01mFalse\u001b[39;00m, error\u001b[38;5;241m=\u001b[39me)\n\u001b[0;32m--> 242\u001b[0m     \u001b[38;5;28;01mraise\u001b[39;00m e\n\u001b[1;32m    244\u001b[0m \u001b[38;5;28;01mif\u001b[39;00m ret \u001b[38;5;129;01mis\u001b[39;00m \u001b[38;5;28;01mNone\u001b[39;00m:\n\u001b[1;32m    245\u001b[0m     ret \u001b[38;5;241m=\u001b[39m LoggedEventReturnValue(\u001b[38;5;28;01mNone\u001b[39;00m)\n",
      "File \u001b[0;32m~/ds653/.venv/lib/python3.12/site-packages/otter/check/utils.py:238\u001b[0m, in \u001b[0;36mlogs_event.<locals>.event_logger\u001b[0;34m(wrapped, self, args, kwargs)\u001b[0m\n\u001b[1;32m    233\u001b[0m \u001b[38;5;250m\u001b[39m\u001b[38;5;124;03m\"\"\"\u001b[39;00m\n\u001b[1;32m    234\u001b[0m \u001b[38;5;124;03mRuns a method, catching any errors and logging the call. Returns the unwrapped return value\u001b[39;00m\n\u001b[1;32m    235\u001b[0m \u001b[38;5;124;03mof the wrapped function.\u001b[39;00m\n\u001b[1;32m    236\u001b[0m \u001b[38;5;124;03m\"\"\"\u001b[39;00m\n\u001b[1;32m    237\u001b[0m \u001b[38;5;28;01mtry\u001b[39;00m:\n\u001b[0;32m--> 238\u001b[0m     ret: Optional[LoggedEventReturnValue[T]] \u001b[38;5;241m=\u001b[39m \u001b[43mwrapped\u001b[49m\u001b[43m(\u001b[49m\u001b[38;5;241;43m*\u001b[39;49m\u001b[43margs\u001b[49m\u001b[43m,\u001b[49m\u001b[43m \u001b[49m\u001b[38;5;241;43m*\u001b[39;49m\u001b[38;5;241;43m*\u001b[39;49m\u001b[43mkwargs\u001b[49m\u001b[43m)\u001b[49m\n\u001b[1;32m    240\u001b[0m \u001b[38;5;28;01mexcept\u001b[39;00m \u001b[38;5;167;01mException\u001b[39;00m \u001b[38;5;28;01mas\u001b[39;00m e:\n\u001b[1;32m    241\u001b[0m     \u001b[38;5;28mself\u001b[39m\u001b[38;5;241m.\u001b[39m_log_event(event_type, success\u001b[38;5;241m=\u001b[39m\u001b[38;5;28;01mFalse\u001b[39;00m, error\u001b[38;5;241m=\u001b[39me)\n",
      "File \u001b[0;32m~/ds653/.venv/lib/python3.12/site-packages/otter/check/notebook.py:256\u001b[0m, in \u001b[0;36mNotebook.check\u001b[0;34m(self, question, global_env)\u001b[0m\n\u001b[1;32m    243\u001b[0m \u001b[38;5;250m\u001b[39m\u001b[38;5;124;03m\"\"\"\u001b[39;00m\n\u001b[1;32m    244\u001b[0m \u001b[38;5;124;03mRuns tests for a specific question against a global environment. If no global environment\u001b[39;00m\n\u001b[1;32m    245\u001b[0m \u001b[38;5;124;03mis provided, the test is run against the calling frame's environment.\u001b[39;00m\n\u001b[0;32m   (...)\u001b[0m\n\u001b[1;32m    253\u001b[0m \u001b[38;5;124;03m    ``otter.test_files.abstract_test.TestFile``: the grade for the question\u001b[39;00m\n\u001b[1;32m    254\u001b[0m \u001b[38;5;124;03m\"\"\"\u001b[39;00m\n\u001b[1;32m    255\u001b[0m \u001b[38;5;28mself\u001b[39m\u001b[38;5;241m.\u001b[39m_logger\u001b[38;5;241m.\u001b[39minfo(\u001b[38;5;124mf\u001b[39m\u001b[38;5;124m\"\u001b[39m\u001b[38;5;124mRunning check for question: \u001b[39m\u001b[38;5;132;01m{\u001b[39;00mquestion\u001b[38;5;132;01m}\u001b[39;00m\u001b[38;5;124m\"\u001b[39m)\n\u001b[0;32m--> 256\u001b[0m test_path, test_name \u001b[38;5;241m=\u001b[39m \u001b[43mresolve_test_info\u001b[49m\u001b[43m(\u001b[49m\n\u001b[1;32m    257\u001b[0m \u001b[43m    \u001b[49m\u001b[38;5;28;43mself\u001b[39;49m\u001b[38;5;241;43m.\u001b[39;49m\u001b[43m_tests_dir\u001b[49m\u001b[43m,\u001b[49m\n\u001b[1;32m    258\u001b[0m \u001b[43m    \u001b[49m\u001b[38;5;28;43mself\u001b[39;49m\u001b[38;5;241;43m.\u001b[39;49m\u001b[43m_notebook\u001b[49m\u001b[43m,\u001b[49m\n\u001b[1;32m    259\u001b[0m \u001b[43m    \u001b[49m\u001b[38;5;28;43mself\u001b[39;49m\u001b[38;5;241;43m.\u001b[39;49m\u001b[43m_tests_url_prefix\u001b[49m\u001b[43m,\u001b[49m\n\u001b[1;32m    260\u001b[0m \u001b[43m    \u001b[49m\u001b[43mquestion\u001b[49m\u001b[43m,\u001b[49m\n\u001b[1;32m    261\u001b[0m \u001b[43m\u001b[49m\u001b[43m)\u001b[49m\n\u001b[1;32m    263\u001b[0m \u001b[38;5;28mself\u001b[39m\u001b[38;5;241m.\u001b[39m_logger\u001b[38;5;241m.\u001b[39mdebug(\u001b[38;5;124mf\u001b[39m\u001b[38;5;124m\"\u001b[39m\u001b[38;5;124mResolved test path: \u001b[39m\u001b[38;5;132;01m{\u001b[39;00mtest_path\u001b[38;5;132;01m}\u001b[39;00m\u001b[38;5;124m\"\u001b[39m)\n\u001b[1;32m    264\u001b[0m \u001b[38;5;28mself\u001b[39m\u001b[38;5;241m.\u001b[39m_logger\u001b[38;5;241m.\u001b[39mdebug(\u001b[38;5;124mf\u001b[39m\u001b[38;5;124m\"\u001b[39m\u001b[38;5;124mResolved test name: \u001b[39m\u001b[38;5;132;01m{\u001b[39;00mtest_name\u001b[38;5;132;01m}\u001b[39;00m\u001b[38;5;124m\"\u001b[39m)\n",
      "File \u001b[0;32m~/ds653/.venv/lib/python3.12/site-packages/otter/check/utils.py:351\u001b[0m, in \u001b[0;36mresolve_test_info\u001b[0;34m(tests_dir, nb_path, tests_url_prefix, question)\u001b[0m\n\u001b[1;32m    349\u001b[0m \u001b[38;5;28;01melse\u001b[39;00m:\n\u001b[1;32m    350\u001b[0m     \u001b[38;5;28;01mif\u001b[39;00m nb_path \u001b[38;5;129;01mis\u001b[39;00m \u001b[38;5;28;01mNone\u001b[39;00m:\n\u001b[0;32m--> 351\u001b[0m         \u001b[38;5;28;01mraise\u001b[39;00m \u001b[38;5;167;01mValueError\u001b[39;00m(\u001b[38;5;124m\"\u001b[39m\u001b[38;5;124mTests directory does not exist and no notebook path provided\u001b[39m\u001b[38;5;124m\"\u001b[39m)\n\u001b[1;32m    353\u001b[0m     test_path \u001b[38;5;241m=\u001b[39m nb_path\n\u001b[1;32m    354\u001b[0m     test_name \u001b[38;5;241m=\u001b[39m question\n",
      "\u001b[0;31mValueError\u001b[0m: Tests directory does not exist and no notebook path provided"
     ]
    }
   ],
   "source": [
    "grader.check(\"q7\")"
   ]
  },
  {
   "cell_type": "markdown",
   "metadata": {
    "deletable": false,
    "editable": false
   },
   "source": [
    "**Question 8 (Binary string to Hex).** Write a function `bytestring_to_hex_bytestring` that receives a Python bytestring as input, and returns the hexadecimal representation of the same bytestring.\n",
    "\n",
    "A few hints:\n",
    "\n",
    "- In Python, the prefix `b` changes the type of the Python variable from `string` to `bytes`. Since we will usually prefer to use `bytes` in this course, remember to always write the letter `b` before the quotation marks when creating bytestrings in this course! (Otherwise, you can find yourself stuck with an annoying error that is difficult to debug.)"
   ]
  },
  {
   "cell_type": "code",
   "execution_count": 30,
   "metadata": {
    "deletable": false,
    "editable": false
   },
   "outputs": [
    {
     "name": "stdout",
     "output_type": "stream",
     "text": [
      "<class 'str'> <class 'bytes'>\n"
     ]
    }
   ],
   "source": [
    "print(type(\"puzzle\"), type(b\"puzzle\"))"
   ]
  },
  {
   "cell_type": "markdown",
   "metadata": {
    "deletable": false,
    "editable": false
   },
   "source": [
    "- Once again, we provide several example test cases for you in the function spec. (The otter-grader automatic grading system will test you on even more examples.)\n",
    "- The `binascii` library includes a function that will do this for you. Take a look at its documentation here: https://docs.python.org/3/library/binascii.html"
   ]
  },
  {
   "cell_type": "code",
   "execution_count": 31,
   "metadata": {
    "tags": []
   },
   "outputs": [],
   "source": [
    "def bytestring_to_hex_bytestring(the_input : bytes) -> bytes:\n",
    "    \"\"\" Take in a string (byte object), and return the hex string of the bytes\n",
    "    corresponding to it. While the hexlify() command will do this for you,\n",
    "    we ask that you instead solve this question by combining the methods\n",
    "    you have written so far in this assignment.\n",
    "\n",
    "    Example test cases:\n",
    "    b\"hello\"  -> b\"68656c6c6f\"\n",
    "    b\"world\"  -> b\"776f726c64\"\n",
    "    b\"the\"    -> b\"746865\"\n",
    "    b\"puzzle\" -> b\"70757a7a6c65\"\n",
    "    \"\"\"\n",
    "    import binascii\n",
    "    \n",
    "    # todo: implement this function\n",
    "    return hexlify(the_input)"
   ]
  },
  {
   "cell_type": "code",
   "execution_count": null,
   "metadata": {
    "deletable": false,
    "editable": false
   },
   "outputs": [],
   "source": [
    "grader.check(\"q8\")"
   ]
  },
  {
   "cell_type": "markdown",
   "metadata": {
    "deletable": false,
    "editable": false
   },
   "source": [
    "**Question 9 (Hex to Base64).** Write a function `hexstring_to_base64` that receives a hexadecimal encoding of a bytestring, and returns the Base 64 encoding of the same bytestring.\n",
    "\n",
    "(Note: this is actually the first challenge in the [Cryptopals](https://cryptopals.com/sets/1/challenges/1) crypto coding challenges. We might see some other challenges from Cryptopals later in the semester.)\n",
    "\n",
    "This time, you might find the `base64` library to be useful. Whenever you explore a new Python library in this course, it is always a good idea to take a few minutes to read its documentation. Here's the documentation for `base64`: https://docs.python.org/3/library/base64.html"
   ]
  },
  {
   "cell_type": "code",
   "execution_count": 38,
   "metadata": {
    "tags": []
   },
   "outputs": [],
   "source": [
    "import base64\n",
    "import binascii\n",
    "\n",
    "def hexstring_to_base64(the_input):\n",
    "    \"\"\" Convert the_input from hex to base64 format.\n",
    "\n",
    "    Example test cases:\n",
    "    b'1de965a3ef96a2b95d' -> b'Hello++World'\n",
    "    b'49276d206b696c6c696e6720796f757220627261696e206c696b65206120706f69736f6e6f7573206d757368726f6f6d' -> b'SSdtIGtpbGxpbmcgeW91ciBicmFpbiBsaWtlIGEgcG9pc29ub3VzIG11c2hyb29t'\n",
    "    \"\"\"\n",
    "    # todo: implement the rest of this function\n",
    "    return base64.b64encode(unhexlify(the_input))\n"
   ]
  },
  {
   "cell_type": "code",
   "execution_count": null,
   "metadata": {
    "deletable": false,
    "editable": false
   },
   "outputs": [],
   "source": [
    "grader.check(\"q9\")"
   ]
  },
  {
   "cell_type": "markdown",
   "metadata": {
    "deletable": false,
    "editable": false
   },
   "source": [
    "**Question 10 (Hashing short strings).** A popular cryptographic hash function is SHA-256. I ran the following code:\n",
    "\n",
    "```\n",
    "from hashlib import sha256\n",
    "bytes_character = # redacted from code\n",
    "hexlify(sha256(bytes_character).digest())\n",
    "```"
   ]
  },
  {
   "cell_type": "markdown",
   "metadata": {
    "deletable": false,
    "editable": false
   },
   "source": [
    "I won't tell you exactly what I chose for the variable `bytes_character` but I will give you a hint: I set this variable to a bytestring of length 1, and its ASCII representation is a single lowercase letter.\n",
    "\n",
    "The output was: `454349e422f05297191ead13e21d3db520e5abef52055e4964b82fb213f593a1`\n",
    "\n",
    "Based on this information, what was my input `bytes_character`?"
   ]
  },
  {
   "cell_type": "code",
   "execution_count": 62,
   "metadata": {},
   "outputs": [
    {
     "data": {
      "text/plain": [
       "b'454349e422f05297191ead13e21d3db520e5abef52055e4964b82fb213f593a1'"
      ]
     },
     "execution_count": 62,
     "metadata": {},
     "output_type": "execute_result"
    }
   ],
   "source": [
    "from hashlib import sha256\n",
    "bytes_character = b'r'\n",
    "hexlify(sha256(bytes_character).digest())"
   ]
  },
  {
   "cell_type": "code",
   "execution_count": 63,
   "metadata": {
    "tags": []
   },
   "outputs": [],
   "source": [
    "def hw1_q10() -> bytes:\n",
    "    # calculate and return the correct value for bytes_character\n",
    "    bytes_character = b'r'\n",
    "    return bytes_character"
   ]
  },
  {
   "cell_type": "code",
   "execution_count": null,
   "metadata": {
    "deletable": false,
    "editable": false
   },
   "outputs": [],
   "source": [
    "grader.check(\"q10\")"
   ]
  },
  {
   "cell_type": "markdown",
   "metadata": {},
   "source": [
    "### Collaboration Policy\n",
    "\n",
    "Congratulations on completing the assignment! Before you submit: list all collaborators, sources, and AI tools in accordance with the collaboration policy. Doing so is to your advantage: this is your opportunity to document and explain any external information used and why you believe it adheres to the code of conduct and collaboration policy. If I discover an undocumented violation of the collaboration policy, then this will be considered academic misconduct.\n",
    "\n",
    "A. Write the names of all classmates you worked with, along with a short description of the work that you performed together."
   ]
  },
  {
   "cell_type": "markdown",
   "metadata": {},
   "source": [
    "**Your response:** "
   ]
  },
  {
   "cell_type": "markdown",
   "metadata": {},
   "source": [
    "B. List all written materials that you used, such as books or websites (besides the lecture notes and course textbooks). Provide links to any web-based resources, or citations to any physical works."
   ]
  },
  {
   "cell_type": "markdown",
   "metadata": {},
   "source": [
    "**Your response:** "
   ]
  },
  {
   "cell_type": "markdown",
   "metadata": {},
   "source": [
    "C. State all code that you used from other sources. In particular, if you used an AI tool, then you must include the entire exchange with the AI tool, as per the [CDS Generative AI Assistance Policy](https://www.bu.edu/cds-faculty/culture-community/gaia-policy/).\n",
    "https://www.geeksforgeeks.org/python-hex-function/"
   ]
  },
  {
   "cell_type": "markdown",
   "metadata": {},
   "source": [
    "**Your response:** "
   ]
  },
  {
   "cell_type": "markdown",
   "metadata": {
    "id": "-algFmYgThpr"
   },
   "source": [
    "### Sending to Gradescope\n",
    "\n",
    "After completing the assignment, submit only the `.ipynb` file to Gradescope. It takes a while for the auto grading system to check your work."
   ]
  }
 ],
 "metadata": {
  "colab": {
   "provenance": []
  },
  "kernelspec": {
   "display_name": ".venv",
   "language": "python",
   "name": "python3"
  },
  "language_info": {
   "codemirror_mode": {
    "name": "ipython",
    "version": 3
   },
   "file_extension": ".py",
   "mimetype": "text/x-python",
   "name": "python",
   "nbconvert_exporter": "python",
   "pygments_lexer": "ipython3",
   "version": "3.12.3"
  },
  "otter": {
   "OK_FORMAT": true,
   "assignment_name": "hw01",
   "tests": {
    "q1": {
     "all_or_nothing": true,
     "name": "q1",
     "points": 2,
     "suites": [
      {
       "cases": [
        {
         "code": ">>> from hashlib import sha256\n>>> def test_hw1_q1_new():\n...     assert sha256(hw1_q1().to_bytes(1, 'big') + b'c0535e4be2b79ffd93291305436bf889').hexdigest() == 'c7f87adb56101dbfdb495c58ea3996e5d6b8bac3969c3f5ae155b38420e5492f'\n...     return\n>>> test_hw1_q1_new()\n",
         "failure_message": "Try again",
         "hidden": false,
         "locked": false,
         "success_message": "Satisfactory"
        }
       ],
       "scored": true,
       "setup": "",
       "teardown": "",
       "type": "doctest"
      }
     ]
    },
    "q10": {
     "all_or_nothing": true,
     "name": "q10",
     "points": 3,
     "suites": [
      {
       "cases": [
        {
         "code": ">>> from hashlib import sha256\n>>> def test_hw1_q10():\n...     assert sha256(hw1_q10() + b'e66cef3c769831a9351b27971508aae5').hexdigest() == 'e319873bb4c0a5f7b20403d96f0bb71d13bfc4cdfe29c081a4d651f726f441ee'\n...     return\n>>> test_hw1_q10()\n",
         "failure_message": "Try again",
         "hidden": false,
         "locked": false,
         "success_message": "Satisfactory"
        }
       ],
       "scored": true,
       "setup": "",
       "teardown": "",
       "type": "doctest"
      }
     ]
    },
    "q2": {
     "all_or_nothing": true,
     "name": "q2",
     "points": 2,
     "suites": [
      {
       "cases": [
        {
         "code": ">>> from hashlib import sha256\n>>> def test_hw1_q2():\n...     assert sha256(hw1_q2().to_bytes(1, 'big') + b'045babdcd2118960e8c8b8e0ecf69e7a').hexdigest() == 'c0b1176d546091aaecce38bf59aa71e091e0e4d7536a05ab6503b9f17df60942'\n...     return\n>>> test_hw1_q2()\n",
         "failure_message": "Try again",
         "hidden": false,
         "locked": false,
         "success_message": "Satisfactory"
        }
       ],
       "scored": true,
       "setup": "",
       "teardown": "",
       "type": "doctest"
      }
     ]
    },
    "q3": {
     "all_or_nothing": true,
     "name": "q3",
     "points": 2,
     "suites": [
      {
       "cases": [
        {
         "code": ">>> from hashlib import sha256\n>>> def test_hw1_q3():\n...     assert sha256(hw1_q3().to_bytes(1, 'big') + b'4ad30843f6b867b8ca49f9f22caaab82').hexdigest() == '1d396f85f99a221d4feb7401f19d519057ff4faa441fc1940c207dd0fb8f5920'\n...     return\n>>> test_hw1_q3()\n",
         "failure_message": "Try again",
         "hidden": false,
         "locked": false,
         "success_message": "Satisfactory"
        }
       ],
       "scored": true,
       "setup": "",
       "teardown": "",
       "type": "doctest"
      }
     ]
    },
    "q4": {
     "all_or_nothing": true,
     "name": "q4",
     "points": 2,
     "suites": [
      {
       "cases": [
        {
         "code": ">>> from hashlib import sha256\n>>> def test_hw1_q4():\n...     assert sha256(hw1_q4().to_bytes(1, 'big') + b'5d9501fe319a8ec463fdf4325a2a5df4').hexdigest() == '3d5cb89cb7075dee0cef6c26991d6920917e945bcc37f87ca2b858d279262769'\n...     return\n>>> test_hw1_q4()\n",
         "failure_message": "Try again",
         "hidden": false,
         "locked": false,
         "success_message": "Satisfactory"
        }
       ],
       "scored": true,
       "setup": "",
       "teardown": "",
       "type": "doctest"
      }
     ]
    },
    "q5": {
     "all_or_nothing": true,
     "name": "q5",
     "points": 2,
     "suites": [
      {
       "cases": [
        {
         "code": ">>> from hashlib import sha256\n>>> def test_hw1_q5():\n...     assert sha256(hw1_q5().to_bytes(1, 'big') + b'a339f066967c0000da3fcda4fd7eb4ef').hexdigest() == 'ffdd3df3934dea52a36bdec1e351bfa803030907133cb49d07cab9b4478a402d'\n...     return\n>>> test_hw1_q5()\n",
         "failure_message": "Try again",
         "hidden": false,
         "locked": false,
         "success_message": "Satisfactory"
        }
       ],
       "scored": true,
       "setup": "",
       "teardown": "",
       "type": "doctest"
      }
     ]
    },
    "q6": {
     "all_or_nothing": true,
     "name": "q6",
     "points": 2,
     "suites": [
      {
       "cases": [
        {
         "code": ">>> from hashlib import sha256\n>>> def test_hw1_q6():\n...     assert sha256(hw1_q6().to_bytes(1, 'big') + b'd0166f6a411c36832e36ae33c07856ce').hexdigest() == '0d1d861aa55f3ea69ae500c9a9eca34762768d2b4a6476ea5026e0f7d0d33055'\n...     return\n>>> test_hw1_q6()\n",
         "failure_message": "Try again",
         "hidden": false,
         "locked": false,
         "success_message": "Satisfactory"
        }
       ],
       "scored": true,
       "setup": "",
       "teardown": "",
       "type": "doctest"
      }
     ]
    },
    "q7": {
     "all_or_nothing": true,
     "name": "q7",
     "points": 3,
     "suites": [
      {
       "cases": [
        {
         "code": ">>> def test_hw1_q7():\n...     assert int_byte_to_hex(0) == '00'\n...     assert int_byte_to_hex(1) == '01'\n...     assert int_byte_to_hex(2) == '02'\n...     assert int_byte_to_hex(3) == '03'\n...     assert int_byte_to_hex(4) == '04'\n...     assert int_byte_to_hex(5) == '05'\n...     assert int_byte_to_hex(6) == '06'\n...     assert int_byte_to_hex(7) == '07'\n...     assert int_byte_to_hex(8) == '08'\n...     assert int_byte_to_hex(9) == '09'\n...     assert int_byte_to_hex(10) == '0a'\n...     assert int_byte_to_hex(11) == '0b'\n...     assert int_byte_to_hex(12) == '0c'\n...     assert int_byte_to_hex(13) == '0d'\n...     assert int_byte_to_hex(14) == '0e'\n...     assert int_byte_to_hex(15) == '0f'\n...     assert int_byte_to_hex(16) == '10'\n...     assert int_byte_to_hex(17) == '11'\n...     assert int_byte_to_hex(18) == '12'\n...     assert int_byte_to_hex(19) == '13'\n...     assert int_byte_to_hex(20) == '14'\n...     assert int_byte_to_hex(21) == '15'\n...     assert int_byte_to_hex(22) == '16'\n...     assert int_byte_to_hex(23) == '17'\n...     assert int_byte_to_hex(24) == '18'\n...     assert int_byte_to_hex(25) == '19'\n...     assert int_byte_to_hex(26) == '1a'\n...     assert int_byte_to_hex(27) == '1b'\n...     assert int_byte_to_hex(28) == '1c'\n...     assert int_byte_to_hex(29) == '1d'\n...     assert int_byte_to_hex(30) == '1e'\n...     assert int_byte_to_hex(31) == '1f'\n...     assert int_byte_to_hex(32) == '20'\n...     assert int_byte_to_hex(33) == '21'\n...     assert int_byte_to_hex(34) == '22'\n...     assert int_byte_to_hex(35) == '23'\n...     assert int_byte_to_hex(36) == '24'\n...     assert int_byte_to_hex(37) == '25'\n...     assert int_byte_to_hex(38) == '26'\n...     assert int_byte_to_hex(39) == '27'\n...     assert int_byte_to_hex(40) == '28'\n...     assert int_byte_to_hex(41) == '29'\n...     assert int_byte_to_hex(42) == '2a'\n...     assert int_byte_to_hex(43) == '2b'\n...     assert int_byte_to_hex(44) == '2c'\n...     assert int_byte_to_hex(45) == '2d'\n...     assert int_byte_to_hex(46) == '2e'\n...     assert int_byte_to_hex(47) == '2f'\n...     assert int_byte_to_hex(48) == '30'\n...     assert int_byte_to_hex(49) == '31'\n...     assert int_byte_to_hex(50) == '32'\n...     assert int_byte_to_hex(51) == '33'\n...     assert int_byte_to_hex(52) == '34'\n...     assert int_byte_to_hex(53) == '35'\n...     assert int_byte_to_hex(54) == '36'\n...     assert int_byte_to_hex(55) == '37'\n...     assert int_byte_to_hex(56) == '38'\n...     assert int_byte_to_hex(57) == '39'\n...     assert int_byte_to_hex(58) == '3a'\n...     assert int_byte_to_hex(59) == '3b'\n...     assert int_byte_to_hex(60) == '3c'\n...     assert int_byte_to_hex(61) == '3d'\n...     assert int_byte_to_hex(62) == '3e'\n...     assert int_byte_to_hex(63) == '3f'\n...     assert int_byte_to_hex(64) == '40'\n...     assert int_byte_to_hex(65) == '41'\n...     assert int_byte_to_hex(66) == '42'\n...     assert int_byte_to_hex(67) == '43'\n...     assert int_byte_to_hex(68) == '44'\n...     assert int_byte_to_hex(69) == '45'\n...     assert int_byte_to_hex(70) == '46'\n...     assert int_byte_to_hex(71) == '47'\n...     assert int_byte_to_hex(72) == '48'\n...     assert int_byte_to_hex(73) == '49'\n...     assert int_byte_to_hex(74) == '4a'\n...     assert int_byte_to_hex(75) == '4b'\n...     assert int_byte_to_hex(76) == '4c'\n...     assert int_byte_to_hex(77) == '4d'\n...     assert int_byte_to_hex(78) == '4e'\n...     assert int_byte_to_hex(79) == '4f'\n...     assert int_byte_to_hex(80) == '50'\n...     assert int_byte_to_hex(81) == '51'\n...     assert int_byte_to_hex(82) == '52'\n...     assert int_byte_to_hex(83) == '53'\n...     assert int_byte_to_hex(84) == '54'\n...     assert int_byte_to_hex(85) == '55'\n...     assert int_byte_to_hex(86) == '56'\n...     assert int_byte_to_hex(87) == '57'\n...     assert int_byte_to_hex(88) == '58'\n...     assert int_byte_to_hex(89) == '59'\n...     assert int_byte_to_hex(90) == '5a'\n...     assert int_byte_to_hex(91) == '5b'\n...     assert int_byte_to_hex(92) == '5c'\n...     assert int_byte_to_hex(93) == '5d'\n...     assert int_byte_to_hex(94) == '5e'\n...     assert int_byte_to_hex(95) == '5f'\n...     assert int_byte_to_hex(96) == '60'\n...     assert int_byte_to_hex(97) == '61'\n...     assert int_byte_to_hex(98) == '62'\n...     assert int_byte_to_hex(99) == '63'\n...     assert int_byte_to_hex(100) == '64'\n...     assert int_byte_to_hex(101) == '65'\n...     assert int_byte_to_hex(102) == '66'\n...     assert int_byte_to_hex(103) == '67'\n...     assert int_byte_to_hex(104) == '68'\n...     assert int_byte_to_hex(105) == '69'\n...     assert int_byte_to_hex(106) == '6a'\n...     assert int_byte_to_hex(107) == '6b'\n...     assert int_byte_to_hex(108) == '6c'\n...     assert int_byte_to_hex(109) == '6d'\n...     assert int_byte_to_hex(110) == '6e'\n...     assert int_byte_to_hex(111) == '6f'\n...     assert int_byte_to_hex(112) == '70'\n...     assert int_byte_to_hex(113) == '71'\n...     assert int_byte_to_hex(114) == '72'\n...     assert int_byte_to_hex(115) == '73'\n...     assert int_byte_to_hex(116) == '74'\n...     assert int_byte_to_hex(117) == '75'\n...     assert int_byte_to_hex(118) == '76'\n...     assert int_byte_to_hex(119) == '77'\n...     assert int_byte_to_hex(120) == '78'\n...     assert int_byte_to_hex(121) == '79'\n...     assert int_byte_to_hex(122) == '7a'\n...     assert int_byte_to_hex(123) == '7b'\n...     assert int_byte_to_hex(124) == '7c'\n...     assert int_byte_to_hex(125) == '7d'\n...     assert int_byte_to_hex(126) == '7e'\n...     assert int_byte_to_hex(127) == '7f'\n...     assert int_byte_to_hex(128) == '80'\n...     assert int_byte_to_hex(129) == '81'\n...     assert int_byte_to_hex(130) == '82'\n...     assert int_byte_to_hex(131) == '83'\n...     assert int_byte_to_hex(132) == '84'\n...     assert int_byte_to_hex(133) == '85'\n...     assert int_byte_to_hex(134) == '86'\n...     assert int_byte_to_hex(135) == '87'\n...     assert int_byte_to_hex(136) == '88'\n...     assert int_byte_to_hex(137) == '89'\n...     assert int_byte_to_hex(138) == '8a'\n...     assert int_byte_to_hex(139) == '8b'\n...     assert int_byte_to_hex(140) == '8c'\n...     assert int_byte_to_hex(141) == '8d'\n...     assert int_byte_to_hex(142) == '8e'\n...     assert int_byte_to_hex(143) == '8f'\n...     assert int_byte_to_hex(144) == '90'\n...     assert int_byte_to_hex(145) == '91'\n...     assert int_byte_to_hex(146) == '92'\n...     assert int_byte_to_hex(147) == '93'\n...     assert int_byte_to_hex(148) == '94'\n...     assert int_byte_to_hex(149) == '95'\n...     assert int_byte_to_hex(150) == '96'\n...     assert int_byte_to_hex(151) == '97'\n...     assert int_byte_to_hex(152) == '98'\n...     assert int_byte_to_hex(153) == '99'\n...     assert int_byte_to_hex(154) == '9a'\n...     assert int_byte_to_hex(155) == '9b'\n...     assert int_byte_to_hex(156) == '9c'\n...     assert int_byte_to_hex(157) == '9d'\n...     assert int_byte_to_hex(158) == '9e'\n...     assert int_byte_to_hex(159) == '9f'\n...     assert int_byte_to_hex(160) == 'a0'\n...     assert int_byte_to_hex(161) == 'a1'\n...     assert int_byte_to_hex(162) == 'a2'\n...     assert int_byte_to_hex(163) == 'a3'\n...     assert int_byte_to_hex(164) == 'a4'\n...     assert int_byte_to_hex(165) == 'a5'\n...     assert int_byte_to_hex(166) == 'a6'\n...     assert int_byte_to_hex(167) == 'a7'\n...     assert int_byte_to_hex(168) == 'a8'\n...     assert int_byte_to_hex(169) == 'a9'\n...     assert int_byte_to_hex(170) == 'aa'\n...     assert int_byte_to_hex(171) == 'ab'\n...     assert int_byte_to_hex(172) == 'ac'\n...     assert int_byte_to_hex(173) == 'ad'\n...     assert int_byte_to_hex(174) == 'ae'\n...     assert int_byte_to_hex(175) == 'af'\n...     assert int_byte_to_hex(176) == 'b0'\n...     assert int_byte_to_hex(177) == 'b1'\n...     assert int_byte_to_hex(178) == 'b2'\n...     assert int_byte_to_hex(179) == 'b3'\n...     assert int_byte_to_hex(180) == 'b4'\n...     assert int_byte_to_hex(181) == 'b5'\n...     assert int_byte_to_hex(182) == 'b6'\n...     assert int_byte_to_hex(183) == 'b7'\n...     assert int_byte_to_hex(184) == 'b8'\n...     assert int_byte_to_hex(185) == 'b9'\n...     assert int_byte_to_hex(186) == 'ba'\n...     assert int_byte_to_hex(187) == 'bb'\n...     assert int_byte_to_hex(188) == 'bc'\n...     assert int_byte_to_hex(189) == 'bd'\n...     assert int_byte_to_hex(190) == 'be'\n...     assert int_byte_to_hex(191) == 'bf'\n...     assert int_byte_to_hex(192) == 'c0'\n...     assert int_byte_to_hex(193) == 'c1'\n...     assert int_byte_to_hex(194) == 'c2'\n...     assert int_byte_to_hex(195) == 'c3'\n...     assert int_byte_to_hex(196) == 'c4'\n...     assert int_byte_to_hex(197) == 'c5'\n...     assert int_byte_to_hex(198) == 'c6'\n...     assert int_byte_to_hex(199) == 'c7'\n...     assert int_byte_to_hex(200) == 'c8'\n...     assert int_byte_to_hex(201) == 'c9'\n...     assert int_byte_to_hex(202) == 'ca'\n...     assert int_byte_to_hex(203) == 'cb'\n...     assert int_byte_to_hex(204) == 'cc'\n...     assert int_byte_to_hex(205) == 'cd'\n...     assert int_byte_to_hex(206) == 'ce'\n...     assert int_byte_to_hex(207) == 'cf'\n...     assert int_byte_to_hex(208) == 'd0'\n...     assert int_byte_to_hex(209) == 'd1'\n...     assert int_byte_to_hex(210) == 'd2'\n...     assert int_byte_to_hex(211) == 'd3'\n...     assert int_byte_to_hex(212) == 'd4'\n...     assert int_byte_to_hex(213) == 'd5'\n...     assert int_byte_to_hex(214) == 'd6'\n...     assert int_byte_to_hex(215) == 'd7'\n...     assert int_byte_to_hex(216) == 'd8'\n...     assert int_byte_to_hex(217) == 'd9'\n...     assert int_byte_to_hex(218) == 'da'\n...     assert int_byte_to_hex(219) == 'db'\n...     assert int_byte_to_hex(220) == 'dc'\n...     assert int_byte_to_hex(221) == 'dd'\n...     assert int_byte_to_hex(222) == 'de'\n...     assert int_byte_to_hex(223) == 'df'\n...     assert int_byte_to_hex(224) == 'e0'\n...     assert int_byte_to_hex(225) == 'e1'\n...     assert int_byte_to_hex(226) == 'e2'\n...     assert int_byte_to_hex(227) == 'e3'\n...     assert int_byte_to_hex(228) == 'e4'\n...     assert int_byte_to_hex(229) == 'e5'\n...     assert int_byte_to_hex(230) == 'e6'\n...     assert int_byte_to_hex(231) == 'e7'\n...     assert int_byte_to_hex(232) == 'e8'\n...     assert int_byte_to_hex(233) == 'e9'\n...     assert int_byte_to_hex(234) == 'ea'\n...     assert int_byte_to_hex(235) == 'eb'\n...     assert int_byte_to_hex(236) == 'ec'\n...     assert int_byte_to_hex(237) == 'ed'\n...     assert int_byte_to_hex(238) == 'ee'\n...     assert int_byte_to_hex(239) == 'ef'\n...     assert int_byte_to_hex(240) == 'f0'\n...     assert int_byte_to_hex(241) == 'f1'\n...     assert int_byte_to_hex(242) == 'f2'\n...     assert int_byte_to_hex(243) == 'f3'\n...     assert int_byte_to_hex(244) == 'f4'\n...     assert int_byte_to_hex(245) == 'f5'\n...     assert int_byte_to_hex(246) == 'f6'\n...     assert int_byte_to_hex(247) == 'f7'\n...     assert int_byte_to_hex(248) == 'f8'\n...     assert int_byte_to_hex(249) == 'f9'\n...     assert int_byte_to_hex(250) == 'fa'\n...     assert int_byte_to_hex(251) == 'fb'\n...     assert int_byte_to_hex(252) == 'fc'\n...     assert int_byte_to_hex(253) == 'fd'\n...     assert int_byte_to_hex(254) == 'fe'\n...     assert int_byte_to_hex(255) == 'ff'\n...     return\n>>> test_hw1_q7()\n",
         "failure_message": "Try again",
         "hidden": false,
         "locked": false,
         "success_message": "Satisfactory"
        }
       ],
       "scored": true,
       "setup": "",
       "teardown": "",
       "type": "doctest"
      }
     ]
    },
    "q8": {
     "all_or_nothing": true,
     "name": "q8",
     "points": 3,
     "suites": [
      {
       "cases": [
        {
         "code": ">>> def test_hw1_q8():\n...     assert bytestring_to_hex_bytestring(b'ability') == b'6162696c697479'\n...     assert bytestring_to_hex_bytestring(b'according') == b'6163636f7264696e67'\n...     assert bytestring_to_hex_bytestring(b'act') == b'616374'\n...     assert bytestring_to_hex_bytestring(b'activity') == b'6163746976697479'\n...     assert bytestring_to_hex_bytestring(b'address') == b'61646472657373'\n...     assert bytestring_to_hex_bytestring(b'administration') == b'61646d696e697374726174696f6e'\n...     assert bytestring_to_hex_bytestring(b'allow') == b'616c6c6f77'\n...     assert bytestring_to_hex_bytestring(b'anything') == b'616e797468696e67'\n...     assert bytestring_to_hex_bytestring(b'arrive') == b'617272697665'\n...     assert bytestring_to_hex_bytestring(b'bad') == b'626164'\n...     assert bytestring_to_hex_bytestring(b'behavior') == b'6265686176696f72'\n...     assert bytestring_to_hex_bytestring(b'believe') == b'62656c69657665'\n...     assert bytestring_to_hex_bytestring(b'best') == b'62657374'\n...     assert bytestring_to_hex_bytestring(b'better') == b'626574746572'\n...     assert bytestring_to_hex_bytestring(b'car') == b'636172'\n...     assert bytestring_to_hex_bytestring(b'cell') == b'63656c6c'\n...     assert bytestring_to_hex_bytestring(b'central') == b'63656e7472616c'\n...     assert bytestring_to_hex_bytestring(b'change') == b'6368616e6765'\n...     assert bytestring_to_hex_bytestring(b'close') == b'636c6f7365'\n...     assert bytestring_to_hex_bytestring(b'collection') == b'636f6c6c656374696f6e'\n...     assert bytestring_to_hex_bytestring(b'computer') == b'636f6d7075746572'\n...     assert bytestring_to_hex_bytestring(b'create') == b'637265617465'\n...     assert bytestring_to_hex_bytestring(b'culture') == b'63756c74757265'\n...     assert bytestring_to_hex_bytestring(b'determine') == b'64657465726d696e65'\n...     assert bytestring_to_hex_bytestring(b'development') == b'646576656c6f706d656e74'\n...     assert bytestring_to_hex_bytestring(b'discover') == b'646973636f766572'\n...     assert bytestring_to_hex_bytestring(b'down') == b'646f776e'\n...     assert bytestring_to_hex_bytestring(b'environment') == b'656e7669726f6e6d656e74'\n...     assert bytestring_to_hex_bytestring(b'environmental') == b'656e7669726f6e6d656e74616c'\n...     assert bytestring_to_hex_bytestring(b'especially') == b'657370656369616c6c79'\n...     assert bytestring_to_hex_bytestring(b'everybody') == b'6576657279626f6479'\n...     assert bytestring_to_hex_bytestring(b'everyone') == b'65766572796f6e65'\n...     assert bytestring_to_hex_bytestring(b'exist') == b'6578697374'\n...     assert bytestring_to_hex_bytestring(b'expect') == b'657870656374'\n...     assert bytestring_to_hex_bytestring(b'federal') == b'6665646572616c'\n...     assert bytestring_to_hex_bytestring(b'fly') == b'666c79'\n...     assert bytestring_to_hex_bytestring(b'follow') == b'666f6c6c6f77'\n...     assert bytestring_to_hex_bytestring(b'front') == b'66726f6e74'\n...     assert bytestring_to_hex_bytestring(b'happen') == b'68617070656e'\n...     assert bytestring_to_hex_bytestring(b'heavy') == b'6865617679'\n...     assert bytestring_to_hex_bytestring(b'hospital') == b'686f73706974616c'\n...     assert bytestring_to_hex_bytestring(b'hour') == b'686f7572'\n...     assert bytestring_to_hex_bytestring(b'how') == b'686f77'\n...     assert bytestring_to_hex_bytestring(b'imagine') == b'696d6167696e65'\n...     assert bytestring_to_hex_bytestring(b'increase') == b'696e637265617365'\n...     assert bytestring_to_hex_bytestring(b'information') == b'696e666f726d6174696f6e'\n...     assert bytestring_to_hex_bytestring(b'institution') == b'696e737469747574696f6e'\n...     assert bytestring_to_hex_bytestring(b'interesting') == b'696e746572657374696e67'\n...     assert bytestring_to_hex_bytestring(b'international') == b'696e7465726e6174696f6e616c'\n...     assert bytestring_to_hex_bytestring(b'investment') == b'696e766573746d656e74'\n...     assert bytestring_to_hex_bytestring(b'knowledge') == b'6b6e6f776c65646765'\n...     assert bytestring_to_hex_bytestring(b'land') == b'6c616e64'\n...     assert bytestring_to_hex_bytestring(b'language') == b'6c616e6775616765'\n...     assert bytestring_to_hex_bytestring(b'laugh') == b'6c61756768'\n...     assert bytestring_to_hex_bytestring(b'letter') == b'6c6574746572'\n...     assert bytestring_to_hex_bytestring(b'low') == b'6c6f77'\n...     assert bytestring_to_hex_bytestring(b'machine') == b'6d616368696e65'\n...     assert bytestring_to_hex_bytestring(b'maintain') == b'6d61696e7461696e'\n...     assert bytestring_to_hex_bytestring(b'memory') == b'6d656d6f7279'\n...     assert bytestring_to_hex_bytestring(b'message') == b'6d657373616765'\n...     assert bytestring_to_hex_bytestring(b'movie') == b'6d6f766965'\n...     assert bytestring_to_hex_bytestring(b'nation') == b'6e6174696f6e'\n...     assert bytestring_to_hex_bytestring(b'nothing') == b'6e6f7468696e67'\n...     assert bytestring_to_hex_bytestring(b'one') == b'6f6e65'\n...     assert bytestring_to_hex_bytestring(b'opportunity') == b'6f70706f7274756e697479'\n...     assert bytestring_to_hex_bytestring(b'order') == b'6f72646572'\n...     assert bytestring_to_hex_bytestring(b'organization') == b'6f7267616e697a6174696f6e'\n...     assert bytestring_to_hex_bytestring(b'painting') == b'7061696e74696e67'\n...     assert bytestring_to_hex_bytestring(b'parent') == b'706172656e74'\n...     assert bytestring_to_hex_bytestring(b'participant') == b'7061727469636970616e74'\n...     assert bytestring_to_hex_bytestring(b'particularly') == b'706172746963756c61726c79'\n...     assert bytestring_to_hex_bytestring(b'pass') == b'70617373'\n...     assert bytestring_to_hex_bytestring(b'perform') == b'706572666f726d'\n...     assert bytestring_to_hex_bytestring(b'performance') == b'706572666f726d616e6365'\n...     assert bytestring_to_hex_bytestring(b'place') == b'706c616365'\n...     assert bytestring_to_hex_bytestring(b'position') == b'706f736974696f6e'\n...     assert bytestring_to_hex_bytestring(b'pressure') == b'7072657373757265'\n...     assert bytestring_to_hex_bytestring(b'professional') == b'70726f66657373696f6e616c'\n...     assert bytestring_to_hex_bytestring(b'professor') == b'70726f666573736f72'\n...     assert bytestring_to_hex_bytestring(b'program') == b'70726f6772616d'\n...     assert bytestring_to_hex_bytestring(b'quickly') == b'717569636b6c79'\n...     assert bytestring_to_hex_bytestring(b'real') == b'7265616c'\n...     assert bytestring_to_hex_bytestring(b'relate') == b'72656c617465'\n...     assert bytestring_to_hex_bytestring(b'relationship') == b'72656c6174696f6e73686970'\n...     assert bytestring_to_hex_bytestring(b'research') == b'7265736561726368'\n...     assert bytestring_to_hex_bytestring(b'respond') == b'726573706f6e64'\n...     assert bytestring_to_hex_bytestring(b'responsibility') == b'726573706f6e736962696c697479'\n...     assert bytestring_to_hex_bytestring(b'same') == b'73616d65'\n...     assert bytestring_to_hex_bytestring(b'season') == b'736561736f6e'\n...     assert bytestring_to_hex_bytestring(b'see') == b'736565'\n...     assert bytestring_to_hex_bytestring(b'shoulder') == b'73686f756c646572'\n...     assert bytestring_to_hex_bytestring(b'significant') == b'7369676e69666963616e74'\n...     assert bytestring_to_hex_bytestring(b'sing') == b'73696e67'\n...     assert bytestring_to_hex_bytestring(b'small') == b'736d616c6c'\n...     assert bytestring_to_hex_bytestring(b'something') == b'736f6d657468696e67'\n...     assert bytestring_to_hex_bytestring(b'specific') == b'7370656369666963'\n...     assert bytestring_to_hex_bytestring(b'staff') == b'7374616666'\n...     assert bytestring_to_hex_bytestring(b'stop') == b'73746f70'\n...     assert bytestring_to_hex_bytestring(b'story') == b'73746f7279'\n...     assert bytestring_to_hex_bytestring(b'student') == b'73747564656e74'\n...     assert bytestring_to_hex_bytestring(b'teacher') == b'74656163686572'\n...     assert bytestring_to_hex_bytestring(b'technology') == b'746563686e6f6c6f6779'\n...     assert bytestring_to_hex_bytestring(b'than') == b'7468616e'\n...     assert bytestring_to_hex_bytestring(b'themselves') == b'7468656d73656c766573'\n...     assert bytestring_to_hex_bytestring(b'there') == b'7468657265'\n...     assert bytestring_to_hex_bytestring(b'thousand') == b'74686f7573616e64'\n...     assert bytestring_to_hex_bytestring(b'today') == b'746f646179'\n...     assert bytestring_to_hex_bytestring(b'top') == b'746f70'\n...     assert bytestring_to_hex_bytestring(b'traditional') == b'747261646974696f6e616c'\n...     assert bytestring_to_hex_bytestring(b'true') == b'74727565'\n...     assert bytestring_to_hex_bytestring(b'understand') == b'756e6465727374616e64'\n...     assert bytestring_to_hex_bytestring(b'until') == b'756e74696c'\n...     assert bytestring_to_hex_bytestring(b'various') == b'766172696f7573'\n...     assert bytestring_to_hex_bytestring(b'want') == b'77616e74'\n...     assert bytestring_to_hex_bytestring(b'wind') == b'77696e64'\n...     assert bytestring_to_hex_bytestring(b'write') == b'7772697465'\n...     assert bytestring_to_hex_bytestring(b'you') == b'796f75'\n...     return\n>>> test_hw1_q8()\n",
         "failure_message": "Try again",
         "hidden": false,
         "locked": false,
         "success_message": "Satisfactory"
        }
       ],
       "scored": true,
       "setup": "",
       "teardown": "",
       "type": "doctest"
      }
     ]
    },
    "q9": {
     "all_or_nothing": true,
     "name": "q9",
     "points": 3,
     "suites": [
      {
       "cases": [
        {
         "code": ">>> def test_hw1_q9():\n...     assert hexstring_to_base64(b'6162696c697479') == b'YWJpbGl0eQ=='\n...     assert hexstring_to_base64(b'6163636f7264696e67') == b'YWNjb3JkaW5n'\n...     assert hexstring_to_base64(b'616374') == b'YWN0'\n...     assert hexstring_to_base64(b'6163746976697479') == b'YWN0aXZpdHk='\n...     assert hexstring_to_base64(b'61646472657373') == b'YWRkcmVzcw=='\n...     assert hexstring_to_base64(b'61646d696e697374726174696f6e') == b'YWRtaW5pc3RyYXRpb24='\n...     assert hexstring_to_base64(b'616c6c6f77') == b'YWxsb3c='\n...     assert hexstring_to_base64(b'616e797468696e67') == b'YW55dGhpbmc='\n...     assert hexstring_to_base64(b'617272697665') == b'YXJyaXZl'\n...     assert hexstring_to_base64(b'626164') == b'YmFk'\n...     assert hexstring_to_base64(b'6265686176696f72') == b'YmVoYXZpb3I='\n...     assert hexstring_to_base64(b'62656c69657665') == b'YmVsaWV2ZQ=='\n...     assert hexstring_to_base64(b'62657374') == b'YmVzdA=='\n...     assert hexstring_to_base64(b'626574746572') == b'YmV0dGVy'\n...     assert hexstring_to_base64(b'636172') == b'Y2Fy'\n...     assert hexstring_to_base64(b'63656c6c') == b'Y2VsbA=='\n...     assert hexstring_to_base64(b'63656e7472616c') == b'Y2VudHJhbA=='\n...     assert hexstring_to_base64(b'6368616e6765') == b'Y2hhbmdl'\n...     assert hexstring_to_base64(b'636c6f7365') == b'Y2xvc2U='\n...     assert hexstring_to_base64(b'636f6c6c656374696f6e') == b'Y29sbGVjdGlvbg=='\n...     assert hexstring_to_base64(b'636f6d7075746572') == b'Y29tcHV0ZXI='\n...     assert hexstring_to_base64(b'637265617465') == b'Y3JlYXRl'\n...     assert hexstring_to_base64(b'63756c74757265') == b'Y3VsdHVyZQ=='\n...     assert hexstring_to_base64(b'64657465726d696e65') == b'ZGV0ZXJtaW5l'\n...     assert hexstring_to_base64(b'646576656c6f706d656e74') == b'ZGV2ZWxvcG1lbnQ='\n...     assert hexstring_to_base64(b'646973636f766572') == b'ZGlzY292ZXI='\n...     assert hexstring_to_base64(b'646f776e') == b'ZG93bg=='\n...     assert hexstring_to_base64(b'656e7669726f6e6d656e74') == b'ZW52aXJvbm1lbnQ='\n...     assert hexstring_to_base64(b'656e7669726f6e6d656e74616c') == b'ZW52aXJvbm1lbnRhbA=='\n...     assert hexstring_to_base64(b'657370656369616c6c79') == b'ZXNwZWNpYWxseQ=='\n...     assert hexstring_to_base64(b'6576657279626f6479') == b'ZXZlcnlib2R5'\n...     assert hexstring_to_base64(b'65766572796f6e65') == b'ZXZlcnlvbmU='\n...     assert hexstring_to_base64(b'6578697374') == b'ZXhpc3Q='\n...     assert hexstring_to_base64(b'657870656374') == b'ZXhwZWN0'\n...     assert hexstring_to_base64(b'6665646572616c') == b'ZmVkZXJhbA=='\n...     assert hexstring_to_base64(b'666c79') == b'Zmx5'\n...     assert hexstring_to_base64(b'666f6c6c6f77') == b'Zm9sbG93'\n...     assert hexstring_to_base64(b'66726f6e74') == b'ZnJvbnQ='\n...     assert hexstring_to_base64(b'68617070656e') == b'aGFwcGVu'\n...     assert hexstring_to_base64(b'6865617679') == b'aGVhdnk='\n...     assert hexstring_to_base64(b'686f73706974616c') == b'aG9zcGl0YWw='\n...     assert hexstring_to_base64(b'686f7572') == b'aG91cg=='\n...     assert hexstring_to_base64(b'686f77') == b'aG93'\n...     assert hexstring_to_base64(b'696d6167696e65') == b'aW1hZ2luZQ=='\n...     assert hexstring_to_base64(b'696e637265617365') == b'aW5jcmVhc2U='\n...     assert hexstring_to_base64(b'696e666f726d6174696f6e') == b'aW5mb3JtYXRpb24='\n...     assert hexstring_to_base64(b'696e737469747574696f6e') == b'aW5zdGl0dXRpb24='\n...     assert hexstring_to_base64(b'696e746572657374696e67') == b'aW50ZXJlc3Rpbmc='\n...     assert hexstring_to_base64(b'696e7465726e6174696f6e616c') == b'aW50ZXJuYXRpb25hbA=='\n...     assert hexstring_to_base64(b'696e766573746d656e74') == b'aW52ZXN0bWVudA=='\n...     assert hexstring_to_base64(b'6b6e6f776c65646765') == b'a25vd2xlZGdl'\n...     assert hexstring_to_base64(b'6c616e64') == b'bGFuZA=='\n...     assert hexstring_to_base64(b'6c616e6775616765') == b'bGFuZ3VhZ2U='\n...     assert hexstring_to_base64(b'6c61756768') == b'bGF1Z2g='\n...     assert hexstring_to_base64(b'6c6574746572') == b'bGV0dGVy'\n...     assert hexstring_to_base64(b'6c6f77') == b'bG93'\n...     assert hexstring_to_base64(b'6d616368696e65') == b'bWFjaGluZQ=='\n...     assert hexstring_to_base64(b'6d61696e7461696e') == b'bWFpbnRhaW4='\n...     assert hexstring_to_base64(b'6d656d6f7279') == b'bWVtb3J5'\n...     assert hexstring_to_base64(b'6d657373616765') == b'bWVzc2FnZQ=='\n...     assert hexstring_to_base64(b'6d6f766965') == b'bW92aWU='\n...     assert hexstring_to_base64(b'6e6174696f6e') == b'bmF0aW9u'\n...     assert hexstring_to_base64(b'6e6f7468696e67') == b'bm90aGluZw=='\n...     assert hexstring_to_base64(b'6f6e65') == b'b25l'\n...     assert hexstring_to_base64(b'6f70706f7274756e697479') == b'b3Bwb3J0dW5pdHk='\n...     assert hexstring_to_base64(b'6f72646572') == b'b3JkZXI='\n...     assert hexstring_to_base64(b'6f7267616e697a6174696f6e') == b'b3JnYW5pemF0aW9u'\n...     assert hexstring_to_base64(b'7061696e74696e67') == b'cGFpbnRpbmc='\n...     assert hexstring_to_base64(b'706172656e74') == b'cGFyZW50'\n...     assert hexstring_to_base64(b'7061727469636970616e74') == b'cGFydGljaXBhbnQ='\n...     assert hexstring_to_base64(b'706172746963756c61726c79') == b'cGFydGljdWxhcmx5'\n...     assert hexstring_to_base64(b'70617373') == b'cGFzcw=='\n...     assert hexstring_to_base64(b'706572666f726d') == b'cGVyZm9ybQ=='\n...     assert hexstring_to_base64(b'706572666f726d616e6365') == b'cGVyZm9ybWFuY2U='\n...     assert hexstring_to_base64(b'706c616365') == b'cGxhY2U='\n...     assert hexstring_to_base64(b'706f736974696f6e') == b'cG9zaXRpb24='\n...     assert hexstring_to_base64(b'7072657373757265') == b'cHJlc3N1cmU='\n...     assert hexstring_to_base64(b'70726f66657373696f6e616c') == b'cHJvZmVzc2lvbmFs'\n...     assert hexstring_to_base64(b'70726f666573736f72') == b'cHJvZmVzc29y'\n...     assert hexstring_to_base64(b'70726f6772616d') == b'cHJvZ3JhbQ=='\n...     assert hexstring_to_base64(b'717569636b6c79') == b'cXVpY2tseQ=='\n...     assert hexstring_to_base64(b'7265616c') == b'cmVhbA=='\n...     assert hexstring_to_base64(b'72656c617465') == b'cmVsYXRl'\n...     assert hexstring_to_base64(b'72656c6174696f6e73686970') == b'cmVsYXRpb25zaGlw'\n...     assert hexstring_to_base64(b'7265736561726368') == b'cmVzZWFyY2g='\n...     assert hexstring_to_base64(b'726573706f6e64') == b'cmVzcG9uZA=='\n...     assert hexstring_to_base64(b'726573706f6e736962696c697479') == b'cmVzcG9uc2liaWxpdHk='\n...     assert hexstring_to_base64(b'73616d65') == b'c2FtZQ=='\n...     assert hexstring_to_base64(b'736561736f6e') == b'c2Vhc29u'\n...     assert hexstring_to_base64(b'736565') == b'c2Vl'\n...     assert hexstring_to_base64(b'73686f756c646572') == b'c2hvdWxkZXI='\n...     assert hexstring_to_base64(b'7369676e69666963616e74') == b'c2lnbmlmaWNhbnQ='\n...     assert hexstring_to_base64(b'73696e67') == b'c2luZw=='\n...     assert hexstring_to_base64(b'736d616c6c') == b'c21hbGw='\n...     assert hexstring_to_base64(b'736f6d657468696e67') == b'c29tZXRoaW5n'\n...     assert hexstring_to_base64(b'7370656369666963') == b'c3BlY2lmaWM='\n...     assert hexstring_to_base64(b'7374616666') == b'c3RhZmY='\n...     assert hexstring_to_base64(b'73746f70') == b'c3RvcA=='\n...     assert hexstring_to_base64(b'73746f7279') == b'c3Rvcnk='\n...     assert hexstring_to_base64(b'73747564656e74') == b'c3R1ZGVudA=='\n...     assert hexstring_to_base64(b'74656163686572') == b'dGVhY2hlcg=='\n...     assert hexstring_to_base64(b'746563686e6f6c6f6779') == b'dGVjaG5vbG9neQ=='\n...     assert hexstring_to_base64(b'7468616e') == b'dGhhbg=='\n...     assert hexstring_to_base64(b'7468656d73656c766573') == b'dGhlbXNlbHZlcw=='\n...     assert hexstring_to_base64(b'7468657265') == b'dGhlcmU='\n...     assert hexstring_to_base64(b'74686f7573616e64') == b'dGhvdXNhbmQ='\n...     assert hexstring_to_base64(b'746f646179') == b'dG9kYXk='\n...     assert hexstring_to_base64(b'746f70') == b'dG9w'\n...     assert hexstring_to_base64(b'747261646974696f6e616c') == b'dHJhZGl0aW9uYWw='\n...     assert hexstring_to_base64(b'74727565') == b'dHJ1ZQ=='\n...     assert hexstring_to_base64(b'756e6465727374616e64') == b'dW5kZXJzdGFuZA=='\n...     assert hexstring_to_base64(b'756e74696c') == b'dW50aWw='\n...     assert hexstring_to_base64(b'766172696f7573') == b'dmFyaW91cw=='\n...     assert hexstring_to_base64(b'77616e74') == b'd2FudA=='\n...     assert hexstring_to_base64(b'77696e64') == b'd2luZA=='\n...     assert hexstring_to_base64(b'7772697465') == b'd3JpdGU='\n...     assert hexstring_to_base64(b'796f75') == b'eW91'\n...     return\n>>> test_hw1_q9()\n",
         "failure_message": "Try again",
         "hidden": false,
         "locked": false,
         "success_message": "Satisfactory"
        }
       ],
       "scored": true,
       "setup": "",
       "teardown": "",
       "type": "doctest"
      }
     ]
    }
   }
  },
  "varInspector": {
   "cols": {
    "lenName": 16,
    "lenType": 16,
    "lenVar": 40
   },
   "kernels_config": {
    "python": {
     "delete_cmd_postfix": "",
     "delete_cmd_prefix": "del ",
     "library": "var_list.py",
     "varRefreshCmd": "print(var_dic_list())"
    },
    "r": {
     "delete_cmd_postfix": ") ",
     "delete_cmd_prefix": "rm(",
     "library": "var_list.r",
     "varRefreshCmd": "cat(var_dic_list()) "
    }
   },
   "types_to_exclude": [
    "module",
    "function",
    "builtin_function_or_method",
    "instance",
    "_Feature"
   ],
   "window_display": false
  }
 },
 "nbformat": 4,
 "nbformat_minor": 0
}
